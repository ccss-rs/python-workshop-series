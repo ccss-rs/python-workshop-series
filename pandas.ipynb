{
 "cells": [
  {
   "cell_type": "markdown",
   "metadata": {
    "id": "5fCEDCU_qrC0"
   },
   "source": [
    "# Pandas\n",
    "\n",
    "pandas is a software package written for the Python programming language for data manipulation and analysis. In particular, it offers data structures and operations for manipulating tabular data and time series. \n"
   ]
  },
  {
   "cell_type": "markdown",
   "metadata": {
    "id": "rMExucF44s_c"
   },
   "source": [
    "## Learning objective\n",
    "\n",
    "We will use an example from a real research project and use pandas to walk through steps that social scientists usually take to handle raw data.\n"
   ]
  },
  {
   "cell_type": "markdown",
   "metadata": {
    "id": "GJBs_flRovLc"
   },
   "source": [
    "## 1. Import pandas\n",
    "\n",
    "To begin, let's look at a few ways to import pandas"
   ]
  },
  {
   "cell_type": "code",
   "execution_count": 1,
   "metadata": {
    "id": "gJr_9dXGpJ05"
   },
   "outputs": [],
   "source": [
    "# import specific classes and functions: useful if you know you'll only be needing the most common parts of pandas\n",
    "from pandas import DataFrame, read_csv\n",
    "\n",
    "# General syntax to import a package but no functions: \n",
    "#   import (package) as (give the package a nickname/alias)\n",
    "# Most pandas users will import the entire package and give it the short nickname \"pd\" as follows:\n",
    "import pandas as pd"
   ]
  },
  {
   "cell_type": "markdown",
   "metadata": {
    "id": "iUTpAqJ6ykG4"
   },
   "source": [
    "## 2. Data example\n",
    "\n",
    "We are going to use an example dataset retrieved from Stack Overflow.\n",
    "\n",
    "Stack Overflow is a question and answer website. Users can ask and answer questions related to programming. Here is an example question and all the answers:\n",
    "\n",
    "https://stackoverflow.com/questions/4/how-to-convert-a-decimal-to-a-double-in-c\n",
    "\n",
    "Stack Overflow data is publicly available, which allows researchers to observe user behavior in the community.\n",
    "\n",
    "Here is an overview of the data schema:\n",
    "\n",
    "https://meta.stackexchange.com/questions/2677/database-schema-documentation-for-the-public-data-dump-and-sede\n",
    "\n",
    "Stack Overflow data is commonly used in social science research, especially studies about expertise and knowledge sharing! Here are just a few examples:\n",
    "- [How do programmers ask and answer questions on the web?](https://dl.acm.org/doi/abs/10.1145/1985793.1985907)\n",
    "- [Discovering Value from Community Activity on Focused Question Answering Sites: A Case Study of Stack Overflow](https://dl.acm.org/doi/abs/10.1145/2339530.2339665)"
   ]
  },
  {
   "cell_type": "markdown",
   "metadata": {
    "id": "9c2d00fn3zDE"
   },
   "source": [
    "## 3. Import csv data\n",
    "\n",
    "As mentioned in the introduction, pandas is designed to work with tabular data. Tabluar data is most commonly provided to researchers in a simple spreadsheet format known as csv, which stands for *comma separated values*. Because of this, pandas has a function to load tabular data from a csv file:  `read_csv`. Let us take a look at this function and what inputs it takes."
   ]
  },
  {
   "cell_type": "code",
   "execution_count": null,
   "metadata": {
    "id": "0Qfk96MX10T0"
   },
   "outputs": [],
   "source": [
    "help(read_csv)"
   ]
  },
  {
   "cell_type": "markdown",
   "metadata": {
    "id": "OL5f9X4l1XLa"
   },
   "source": [
    "Common parameters in **read_csv**\n",
    "\n",
    "read_csv(filepath, sep= , header= , usecols=None)\n",
    "\n",
    "- filepath_or_buffer : str, path object or file-like object\n",
    "   \n",
    "- sep : str, default ','\n",
    "    \n",
    "- header : int, list of int\n",
    " - Row number(s) to use as the column names, and the start of the data.  \n",
    "    \n",
    "- names : array-like, optional\n",
    " - List of column names to use, if the file contains a header row\n",
    "   \n",
    "- usecols : list-like or callable\n",
    " - Return a subset of the columns. \n",
    " - For example, a valid list-like\n",
    "    `usecols` parameter would be ``[0, 1, 2]`` or ``['foo', 'bar', 'baz']``.\n",
    "   \n"
   ]
  },
  {
   "cell_type": "markdown",
   "metadata": {},
   "source": [
    "As we can see from the parameters description, we need to give `read_csv` a path to the csv file we want to load. Here, we will load the example StackOverflow data, which is contained in the file \"so_question.csv\" in our GitHub repo."
   ]
  },
  {
   "cell_type": "code",
   "execution_count": 2,
   "metadata": {
    "id": "7X7PRKhX4kJV"
   },
   "outputs": [],
   "source": [
    "# The following path is valid for our Binder setup. If you are running this notebook in your local machine instead and have the file downloaded to a different location, you may need to change this path.\n",
    "Location = './data/so_question.csv'\n",
    "df = pd.read_csv(Location)"
   ]
  },
  {
   "cell_type": "markdown",
   "metadata": {},
   "source": [
    "`read_csv` loads the data into a structure known as a **DataFrame**, as we can see if we check the type of the variable `df` that we created:"
   ]
  },
  {
   "cell_type": "code",
   "execution_count": 3,
   "metadata": {},
   "outputs": [
    {
     "data": {
      "text/plain": [
       "pandas.core.frame.DataFrame"
      ]
     },
     "execution_count": 3,
     "metadata": {},
     "output_type": "execute_result"
    }
   ],
   "source": [
    "type(df)"
   ]
  },
  {
   "cell_type": "markdown",
   "metadata": {},
   "source": [
    "Think of a **DataFrame** as a table or spreadsheet that you can work with inside your Python code! Like any table, it contains data organized into rows and columns.\n",
    "\n",
    "Now you might be wondering what the data actually looks like. The best way to find out is to use the `display` function, which will show a sample of data from the DataFrame. This is always the first thing you should do after loading a new dataset in pandas!"
   ]
  },
  {
   "cell_type": "code",
   "execution_count": 4,
   "metadata": {
    "colab": {
     "base_uri": "https://localhost:8080/",
     "height": 423
    },
    "id": "NGGMN_Ti28h3",
    "outputId": "cf999efc-4b69-41db-b99e-f933cc7c81d9"
   },
   "outputs": [
    {
     "data": {
      "text/html": [
       "<div>\n",
       "<style scoped>\n",
       "    .dataframe tbody tr th:only-of-type {\n",
       "        vertical-align: middle;\n",
       "    }\n",
       "\n",
       "    .dataframe tbody tr th {\n",
       "        vertical-align: top;\n",
       "    }\n",
       "\n",
       "    .dataframe thead th {\n",
       "        text-align: right;\n",
       "    }\n",
       "</style>\n",
       "<table border=\"1\" class=\"dataframe\">\n",
       "  <thead>\n",
       "    <tr style=\"text-align: right;\">\n",
       "      <th></th>\n",
       "      <th>24752851</th>\n",
       "      <th>2014-07-15 07:58:49</th>\n",
       "      <th>.htaccess</th>\n",
       "      <th>2014</th>\n",
       "      <th>7</th>\n",
       "      <th>24768174</th>\n",
       "      <th>509916</th>\n",
       "    </tr>\n",
       "  </thead>\n",
       "  <tbody>\n",
       "    <tr>\n",
       "      <th>0</th>\n",
       "      <td>39926330</td>\n",
       "      <td>2016-10-07 21:55:43</td>\n",
       "      <td>.htaccess</td>\n",
       "      <td>2016</td>\n",
       "      <td>10</td>\n",
       "      <td>NaN</td>\n",
       "      <td>5281549.0</td>\n",
       "    </tr>\n",
       "    <tr>\n",
       "      <th>1</th>\n",
       "      <td>26762140</td>\n",
       "      <td>2014-11-05 16:26:24</td>\n",
       "      <td>.htaccess</td>\n",
       "      <td>2014</td>\n",
       "      <td>11</td>\n",
       "      <td>26762882.0</td>\n",
       "      <td>2091861.0</td>\n",
       "    </tr>\n",
       "    <tr>\n",
       "      <th>2</th>\n",
       "      <td>29889423</td>\n",
       "      <td>2015-04-27 07:14:00</td>\n",
       "      <td>.htaccess</td>\n",
       "      <td>2015</td>\n",
       "      <td>4</td>\n",
       "      <td>NaN</td>\n",
       "      <td>589973.0</td>\n",
       "    </tr>\n",
       "    <tr>\n",
       "      <th>3</th>\n",
       "      <td>10582676</td>\n",
       "      <td>2012-05-14 11:43:27</td>\n",
       "      <td>.htaccess</td>\n",
       "      <td>2012</td>\n",
       "      <td>5</td>\n",
       "      <td>NaN</td>\n",
       "      <td>1326187.0</td>\n",
       "    </tr>\n",
       "    <tr>\n",
       "      <th>4</th>\n",
       "      <td>24544084</td>\n",
       "      <td>2014-07-03 02:39:25</td>\n",
       "      <td>.htaccess</td>\n",
       "      <td>2014</td>\n",
       "      <td>7</td>\n",
       "      <td>NaN</td>\n",
       "      <td>1448031.0</td>\n",
       "    </tr>\n",
       "    <tr>\n",
       "      <th>...</th>\n",
       "      <td>...</td>\n",
       "      <td>...</td>\n",
       "      <td>...</td>\n",
       "      <td>...</td>\n",
       "      <td>...</td>\n",
       "      <td>...</td>\n",
       "      <td>...</td>\n",
       "    </tr>\n",
       "    <tr>\n",
       "      <th>60564</th>\n",
       "      <td>39093361</td>\n",
       "      <td>2016-08-23 05:55:50</td>\n",
       "      <td>zurb-foundation</td>\n",
       "      <td>2016</td>\n",
       "      <td>8</td>\n",
       "      <td>NaN</td>\n",
       "      <td>2729887.0</td>\n",
       "    </tr>\n",
       "    <tr>\n",
       "      <th>60565</th>\n",
       "      <td>37248756</td>\n",
       "      <td>2016-05-16 07:25:11</td>\n",
       "      <td>zurb-foundation-6</td>\n",
       "      <td>2016</td>\n",
       "      <td>5</td>\n",
       "      <td>37251132.0</td>\n",
       "      <td>1148107.0</td>\n",
       "    </tr>\n",
       "    <tr>\n",
       "      <th>60566</th>\n",
       "      <td>16264645</td>\n",
       "      <td>2013-04-28 15:50:01</td>\n",
       "      <td>zxing</td>\n",
       "      <td>2013</td>\n",
       "      <td>4</td>\n",
       "      <td>16264687.0</td>\n",
       "      <td>2102871.0</td>\n",
       "    </tr>\n",
       "    <tr>\n",
       "      <th>60567</th>\n",
       "      <td>30389191</td>\n",
       "      <td>2015-05-22 05:46:07</td>\n",
       "      <td>zxing</td>\n",
       "      <td>2015</td>\n",
       "      <td>5</td>\n",
       "      <td>NaN</td>\n",
       "      <td>571433.0</td>\n",
       "    </tr>\n",
       "    <tr>\n",
       "      <th>60568</th>\n",
       "      <td>26181174</td>\n",
       "      <td>2014-10-03 14:44:59</td>\n",
       "      <td>zxing</td>\n",
       "      <td>2014</td>\n",
       "      <td>10</td>\n",
       "      <td>NaN</td>\n",
       "      <td>1491212.0</td>\n",
       "    </tr>\n",
       "  </tbody>\n",
       "</table>\n",
       "<p>60569 rows × 7 columns</p>\n",
       "</div>"
      ],
      "text/plain": [
       "       24752851  2014-07-15 07:58:49          .htaccess  2014   7    24768174  \\\n",
       "0      39926330  2016-10-07 21:55:43          .htaccess  2016  10         NaN   \n",
       "1      26762140  2014-11-05 16:26:24          .htaccess  2014  11  26762882.0   \n",
       "2      29889423  2015-04-27 07:14:00          .htaccess  2015   4         NaN   \n",
       "3      10582676  2012-05-14 11:43:27          .htaccess  2012   5         NaN   \n",
       "4      24544084  2014-07-03 02:39:25          .htaccess  2014   7         NaN   \n",
       "...         ...                  ...                ...   ...  ..         ...   \n",
       "60564  39093361  2016-08-23 05:55:50    zurb-foundation  2016   8         NaN   \n",
       "60565  37248756  2016-05-16 07:25:11  zurb-foundation-6  2016   5  37251132.0   \n",
       "60566  16264645  2013-04-28 15:50:01              zxing  2013   4  16264687.0   \n",
       "60567  30389191  2015-05-22 05:46:07              zxing  2015   5         NaN   \n",
       "60568  26181174  2014-10-03 14:44:59              zxing  2014  10         NaN   \n",
       "\n",
       "          509916  \n",
       "0      5281549.0  \n",
       "1      2091861.0  \n",
       "2       589973.0  \n",
       "3      1326187.0  \n",
       "4      1448031.0  \n",
       "...          ...  \n",
       "60564  2729887.0  \n",
       "60565  1148107.0  \n",
       "60566  2102871.0  \n",
       "60567   571433.0  \n",
       "60568  1491212.0  \n",
       "\n",
       "[60569 rows x 7 columns]"
      ]
     },
     "metadata": {},
     "output_type": "display_data"
    }
   ],
   "source": [
    "display(df)"
   ]
  },
  {
   "cell_type": "markdown",
   "metadata": {
    "id": "in0J3EXx3eJ3"
   },
   "source": [
    "This brings us to the first problem of the exercise. The `read_csv` function treated the first record in the csv file as the header names. This is obviously not correct since the text file did not provide us with header names; instead, we can see that the first row looks like real data.\n",
    "\n",
    "To correct this we will pass the `header` parameter to the read_csv function and set it to **None** (means null in python)."
   ]
  },
  {
   "cell_type": "code",
   "execution_count": 5,
   "metadata": {
    "colab": {
     "base_uri": "https://localhost:8080/",
     "height": 423
    },
    "id": "OxDMJ17V3hW_",
    "outputId": "d9ec3d5a-c475-4639-9d0a-fd62e1dca511"
   },
   "outputs": [
    {
     "data": {
      "text/html": [
       "<div>\n",
       "<style scoped>\n",
       "    .dataframe tbody tr th:only-of-type {\n",
       "        vertical-align: middle;\n",
       "    }\n",
       "\n",
       "    .dataframe tbody tr th {\n",
       "        vertical-align: top;\n",
       "    }\n",
       "\n",
       "    .dataframe thead th {\n",
       "        text-align: right;\n",
       "    }\n",
       "</style>\n",
       "<table border=\"1\" class=\"dataframe\">\n",
       "  <thead>\n",
       "    <tr style=\"text-align: right;\">\n",
       "      <th></th>\n",
       "      <th>0</th>\n",
       "      <th>1</th>\n",
       "      <th>2</th>\n",
       "      <th>3</th>\n",
       "      <th>4</th>\n",
       "      <th>5</th>\n",
       "      <th>6</th>\n",
       "    </tr>\n",
       "  </thead>\n",
       "  <tbody>\n",
       "    <tr>\n",
       "      <th>0</th>\n",
       "      <td>24752851</td>\n",
       "      <td>2014-07-15 07:58:49</td>\n",
       "      <td>.htaccess</td>\n",
       "      <td>2014</td>\n",
       "      <td>7</td>\n",
       "      <td>24768174.0</td>\n",
       "      <td>509916.0</td>\n",
       "    </tr>\n",
       "    <tr>\n",
       "      <th>1</th>\n",
       "      <td>39926330</td>\n",
       "      <td>2016-10-07 21:55:43</td>\n",
       "      <td>.htaccess</td>\n",
       "      <td>2016</td>\n",
       "      <td>10</td>\n",
       "      <td>NaN</td>\n",
       "      <td>5281549.0</td>\n",
       "    </tr>\n",
       "    <tr>\n",
       "      <th>2</th>\n",
       "      <td>26762140</td>\n",
       "      <td>2014-11-05 16:26:24</td>\n",
       "      <td>.htaccess</td>\n",
       "      <td>2014</td>\n",
       "      <td>11</td>\n",
       "      <td>26762882.0</td>\n",
       "      <td>2091861.0</td>\n",
       "    </tr>\n",
       "    <tr>\n",
       "      <th>3</th>\n",
       "      <td>29889423</td>\n",
       "      <td>2015-04-27 07:14:00</td>\n",
       "      <td>.htaccess</td>\n",
       "      <td>2015</td>\n",
       "      <td>4</td>\n",
       "      <td>NaN</td>\n",
       "      <td>589973.0</td>\n",
       "    </tr>\n",
       "    <tr>\n",
       "      <th>4</th>\n",
       "      <td>10582676</td>\n",
       "      <td>2012-05-14 11:43:27</td>\n",
       "      <td>.htaccess</td>\n",
       "      <td>2012</td>\n",
       "      <td>5</td>\n",
       "      <td>NaN</td>\n",
       "      <td>1326187.0</td>\n",
       "    </tr>\n",
       "    <tr>\n",
       "      <th>...</th>\n",
       "      <td>...</td>\n",
       "      <td>...</td>\n",
       "      <td>...</td>\n",
       "      <td>...</td>\n",
       "      <td>...</td>\n",
       "      <td>...</td>\n",
       "      <td>...</td>\n",
       "    </tr>\n",
       "    <tr>\n",
       "      <th>60565</th>\n",
       "      <td>39093361</td>\n",
       "      <td>2016-08-23 05:55:50</td>\n",
       "      <td>zurb-foundation</td>\n",
       "      <td>2016</td>\n",
       "      <td>8</td>\n",
       "      <td>NaN</td>\n",
       "      <td>2729887.0</td>\n",
       "    </tr>\n",
       "    <tr>\n",
       "      <th>60566</th>\n",
       "      <td>37248756</td>\n",
       "      <td>2016-05-16 07:25:11</td>\n",
       "      <td>zurb-foundation-6</td>\n",
       "      <td>2016</td>\n",
       "      <td>5</td>\n",
       "      <td>37251132.0</td>\n",
       "      <td>1148107.0</td>\n",
       "    </tr>\n",
       "    <tr>\n",
       "      <th>60567</th>\n",
       "      <td>16264645</td>\n",
       "      <td>2013-04-28 15:50:01</td>\n",
       "      <td>zxing</td>\n",
       "      <td>2013</td>\n",
       "      <td>4</td>\n",
       "      <td>16264687.0</td>\n",
       "      <td>2102871.0</td>\n",
       "    </tr>\n",
       "    <tr>\n",
       "      <th>60568</th>\n",
       "      <td>30389191</td>\n",
       "      <td>2015-05-22 05:46:07</td>\n",
       "      <td>zxing</td>\n",
       "      <td>2015</td>\n",
       "      <td>5</td>\n",
       "      <td>NaN</td>\n",
       "      <td>571433.0</td>\n",
       "    </tr>\n",
       "    <tr>\n",
       "      <th>60569</th>\n",
       "      <td>26181174</td>\n",
       "      <td>2014-10-03 14:44:59</td>\n",
       "      <td>zxing</td>\n",
       "      <td>2014</td>\n",
       "      <td>10</td>\n",
       "      <td>NaN</td>\n",
       "      <td>1491212.0</td>\n",
       "    </tr>\n",
       "  </tbody>\n",
       "</table>\n",
       "<p>60570 rows × 7 columns</p>\n",
       "</div>"
      ],
      "text/plain": [
       "              0                    1                  2     3   4           5  \\\n",
       "0      24752851  2014-07-15 07:58:49          .htaccess  2014   7  24768174.0   \n",
       "1      39926330  2016-10-07 21:55:43          .htaccess  2016  10         NaN   \n",
       "2      26762140  2014-11-05 16:26:24          .htaccess  2014  11  26762882.0   \n",
       "3      29889423  2015-04-27 07:14:00          .htaccess  2015   4         NaN   \n",
       "4      10582676  2012-05-14 11:43:27          .htaccess  2012   5         NaN   \n",
       "...         ...                  ...                ...   ...  ..         ...   \n",
       "60565  39093361  2016-08-23 05:55:50    zurb-foundation  2016   8         NaN   \n",
       "60566  37248756  2016-05-16 07:25:11  zurb-foundation-6  2016   5  37251132.0   \n",
       "60567  16264645  2013-04-28 15:50:01              zxing  2013   4  16264687.0   \n",
       "60568  30389191  2015-05-22 05:46:07              zxing  2015   5         NaN   \n",
       "60569  26181174  2014-10-03 14:44:59              zxing  2014  10         NaN   \n",
       "\n",
       "               6  \n",
       "0       509916.0  \n",
       "1      5281549.0  \n",
       "2      2091861.0  \n",
       "3       589973.0  \n",
       "4      1326187.0  \n",
       "...          ...  \n",
       "60565  2729887.0  \n",
       "60566  1148107.0  \n",
       "60567  2102871.0  \n",
       "60568   571433.0  \n",
       "60569  1491212.0  \n",
       "\n",
       "[60570 rows x 7 columns]"
      ]
     },
     "metadata": {},
     "output_type": "display_data"
    }
   ],
   "source": [
    "df = pd.read_csv(Location, header=None)\n",
    "display(df)"
   ]
  },
  {
   "cell_type": "markdown",
   "metadata": {
    "id": "L2wafQlD3_S5"
   },
   "source": [
    "We can see that all 10000 rows of the csv file are now correctly treated as real data. Since no header names were given, pandas automatically just numbers the headers starting from 0. This is obviously not very useful, usually you want your columns to have meaningful names describing what kind of data they contain. In this case, the documentation for the StackOverflow dataset tells us what the columns are: \n",
    "- The first column is an ID\n",
    "- The second column is a timestamp\n",
    "- The third column is a topic tag\n",
    "- The fourth column is a year\n",
    "- The fifth column is a month\n",
    "- The sixth column is the ID of the accepted answer, if any\n",
    "- The seventh column is the ID of the author\n",
    "\n",
    "Now we want to tell pandas to use column names that are descriptive of this data. We can do this by passing a list of column names to the parameter `names`. This also lets us omit the `header` parameter."
   ]
  },
  {
   "cell_type": "code",
   "execution_count": 6,
   "metadata": {
    "colab": {
     "base_uri": "https://localhost:8080/",
     "height": 423
    },
    "id": "7d3S5YmR4ERa",
    "outputId": "c46193a1-6ec5-46e8-f637-2668885ddd69"
   },
   "outputs": [
    {
     "data": {
      "text/html": [
       "<div>\n",
       "<style scoped>\n",
       "    .dataframe tbody tr th:only-of-type {\n",
       "        vertical-align: middle;\n",
       "    }\n",
       "\n",
       "    .dataframe tbody tr th {\n",
       "        vertical-align: top;\n",
       "    }\n",
       "\n",
       "    .dataframe thead th {\n",
       "        text-align: right;\n",
       "    }\n",
       "</style>\n",
       "<table border=\"1\" class=\"dataframe\">\n",
       "  <thead>\n",
       "    <tr style=\"text-align: right;\">\n",
       "      <th></th>\n",
       "      <th>id</th>\n",
       "      <th>creation_time</th>\n",
       "      <th>tag</th>\n",
       "      <th>year</th>\n",
       "      <th>month</th>\n",
       "      <th>accepted_id</th>\n",
       "      <th>owner_user_id</th>\n",
       "    </tr>\n",
       "  </thead>\n",
       "  <tbody>\n",
       "    <tr>\n",
       "      <th>0</th>\n",
       "      <td>24752851</td>\n",
       "      <td>2014-07-15 07:58:49</td>\n",
       "      <td>.htaccess</td>\n",
       "      <td>2014</td>\n",
       "      <td>7</td>\n",
       "      <td>24768174.0</td>\n",
       "      <td>509916.0</td>\n",
       "    </tr>\n",
       "    <tr>\n",
       "      <th>1</th>\n",
       "      <td>39926330</td>\n",
       "      <td>2016-10-07 21:55:43</td>\n",
       "      <td>.htaccess</td>\n",
       "      <td>2016</td>\n",
       "      <td>10</td>\n",
       "      <td>NaN</td>\n",
       "      <td>5281549.0</td>\n",
       "    </tr>\n",
       "    <tr>\n",
       "      <th>2</th>\n",
       "      <td>26762140</td>\n",
       "      <td>2014-11-05 16:26:24</td>\n",
       "      <td>.htaccess</td>\n",
       "      <td>2014</td>\n",
       "      <td>11</td>\n",
       "      <td>26762882.0</td>\n",
       "      <td>2091861.0</td>\n",
       "    </tr>\n",
       "    <tr>\n",
       "      <th>3</th>\n",
       "      <td>29889423</td>\n",
       "      <td>2015-04-27 07:14:00</td>\n",
       "      <td>.htaccess</td>\n",
       "      <td>2015</td>\n",
       "      <td>4</td>\n",
       "      <td>NaN</td>\n",
       "      <td>589973.0</td>\n",
       "    </tr>\n",
       "    <tr>\n",
       "      <th>4</th>\n",
       "      <td>10582676</td>\n",
       "      <td>2012-05-14 11:43:27</td>\n",
       "      <td>.htaccess</td>\n",
       "      <td>2012</td>\n",
       "      <td>5</td>\n",
       "      <td>NaN</td>\n",
       "      <td>1326187.0</td>\n",
       "    </tr>\n",
       "    <tr>\n",
       "      <th>...</th>\n",
       "      <td>...</td>\n",
       "      <td>...</td>\n",
       "      <td>...</td>\n",
       "      <td>...</td>\n",
       "      <td>...</td>\n",
       "      <td>...</td>\n",
       "      <td>...</td>\n",
       "    </tr>\n",
       "    <tr>\n",
       "      <th>60565</th>\n",
       "      <td>39093361</td>\n",
       "      <td>2016-08-23 05:55:50</td>\n",
       "      <td>zurb-foundation</td>\n",
       "      <td>2016</td>\n",
       "      <td>8</td>\n",
       "      <td>NaN</td>\n",
       "      <td>2729887.0</td>\n",
       "    </tr>\n",
       "    <tr>\n",
       "      <th>60566</th>\n",
       "      <td>37248756</td>\n",
       "      <td>2016-05-16 07:25:11</td>\n",
       "      <td>zurb-foundation-6</td>\n",
       "      <td>2016</td>\n",
       "      <td>5</td>\n",
       "      <td>37251132.0</td>\n",
       "      <td>1148107.0</td>\n",
       "    </tr>\n",
       "    <tr>\n",
       "      <th>60567</th>\n",
       "      <td>16264645</td>\n",
       "      <td>2013-04-28 15:50:01</td>\n",
       "      <td>zxing</td>\n",
       "      <td>2013</td>\n",
       "      <td>4</td>\n",
       "      <td>16264687.0</td>\n",
       "      <td>2102871.0</td>\n",
       "    </tr>\n",
       "    <tr>\n",
       "      <th>60568</th>\n",
       "      <td>30389191</td>\n",
       "      <td>2015-05-22 05:46:07</td>\n",
       "      <td>zxing</td>\n",
       "      <td>2015</td>\n",
       "      <td>5</td>\n",
       "      <td>NaN</td>\n",
       "      <td>571433.0</td>\n",
       "    </tr>\n",
       "    <tr>\n",
       "      <th>60569</th>\n",
       "      <td>26181174</td>\n",
       "      <td>2014-10-03 14:44:59</td>\n",
       "      <td>zxing</td>\n",
       "      <td>2014</td>\n",
       "      <td>10</td>\n",
       "      <td>NaN</td>\n",
       "      <td>1491212.0</td>\n",
       "    </tr>\n",
       "  </tbody>\n",
       "</table>\n",
       "<p>60570 rows × 7 columns</p>\n",
       "</div>"
      ],
      "text/plain": [
       "             id        creation_time                tag  year  month  \\\n",
       "0      24752851  2014-07-15 07:58:49          .htaccess  2014      7   \n",
       "1      39926330  2016-10-07 21:55:43          .htaccess  2016     10   \n",
       "2      26762140  2014-11-05 16:26:24          .htaccess  2014     11   \n",
       "3      29889423  2015-04-27 07:14:00          .htaccess  2015      4   \n",
       "4      10582676  2012-05-14 11:43:27          .htaccess  2012      5   \n",
       "...         ...                  ...                ...   ...    ...   \n",
       "60565  39093361  2016-08-23 05:55:50    zurb-foundation  2016      8   \n",
       "60566  37248756  2016-05-16 07:25:11  zurb-foundation-6  2016      5   \n",
       "60567  16264645  2013-04-28 15:50:01              zxing  2013      4   \n",
       "60568  30389191  2015-05-22 05:46:07              zxing  2015      5   \n",
       "60569  26181174  2014-10-03 14:44:59              zxing  2014     10   \n",
       "\n",
       "       accepted_id  owner_user_id  \n",
       "0       24768174.0       509916.0  \n",
       "1              NaN      5281549.0  \n",
       "2       26762882.0      2091861.0  \n",
       "3              NaN       589973.0  \n",
       "4              NaN      1326187.0  \n",
       "...            ...            ...  \n",
       "60565          NaN      2729887.0  \n",
       "60566   37251132.0      1148107.0  \n",
       "60567   16264687.0      2102871.0  \n",
       "60568          NaN       571433.0  \n",
       "60569          NaN      1491212.0  \n",
       "\n",
       "[60570 rows x 7 columns]"
      ]
     },
     "metadata": {},
     "output_type": "display_data"
    }
   ],
   "source": [
    "df = pd.read_csv(Location, names=['id', 'creation_time', 'tag', 'year','month', 'accepted_id','owner_user_id'])\n",
    "display(df)"
   ]
  },
  {
   "cell_type": "markdown",
   "metadata": {
    "id": "iwv6zshx5ylG"
   },
   "source": [
    "Notice the leftmost column is special: it does not have a name and simply contains consecutive numbers [0,1,2,3,4,...]. This is the *index* of the DataFrame; you can think of these as the row numbers in an Excel file. This index is also similar to the primary key of a sql table with the exception that an index is allowed to have duplicates.\n",
    "\n",
    "One last thing we want to point out before we move on: notice that in the accepted_id column, there seems to be a mix of data: some look like numerical IDs, but others say \"NaN\". NaN is short for \"Not A Number\" and is pandas' way of representing *missing data*. Think of NaNs as equivalent to an empty cell in an Excel file. The meaning of missing data depends on the context of the dataset. In this case, since this data is from Stack Overflow and the \"accepted_id\" column represents the ID of an accepted answer, we can infer that in this case missing data means that the question never received an accepted answer. In research, we often want to do something special to handle missing data; we will return to this later in the workshop."
   ]
  },
  {
   "cell_type": "markdown",
   "metadata": {
    "id": "OwuxHmxllTwN"
   },
   "source": [
    "## 4. Checking the structure of the data\n",
    "Usually we first do a couple of sanity checks to make sure the data we imported is in good shape and understand its high level structure. \n",
    "\n",
    "Usually we make sure the data type of each variable is sensible, check the total number of observations, and the number of variables in the data set.\n",
    "\n",
    "Let's take a look at the example data set. First, we'll check data types using the `dtypes` variable.\n"
   ]
  },
  {
   "cell_type": "code",
   "execution_count": 7,
   "metadata": {
    "colab": {
     "base_uri": "https://localhost:8080/"
    },
    "id": "yCC64Uqy6nAY",
    "outputId": "eea2432a-ca08-4563-c614-c1d78288af19"
   },
   "outputs": [
    {
     "data": {
      "text/plain": [
       "id                 int64\n",
       "creation_time     object\n",
       "tag               object\n",
       "year               int64\n",
       "month              int64\n",
       "accepted_id      float64\n",
       "owner_user_id    float64\n",
       "dtype: object"
      ]
     },
     "execution_count": 7,
     "metadata": {},
     "output_type": "execute_result"
    }
   ],
   "source": [
    "# Check data type of the columns\n",
    "df.dtypes"
   ]
  },
  {
   "cell_type": "code",
   "execution_count": 8,
   "metadata": {
    "colab": {
     "base_uri": "https://localhost:8080/"
    },
    "id": "OI7fDnZh6tZ5",
    "outputId": "afda98ae-6e03-4427-b376-d15cdc6295a7"
   },
   "outputs": [
    {
     "data": {
      "text/plain": [
       "dtype('float64')"
      ]
     },
     "execution_count": 8,
     "metadata": {},
     "output_type": "execute_result"
    }
   ],
   "source": [
    "# Check data type of a specific column\n",
    "df.accepted_id.dtype"
   ]
  },
  {
   "cell_type": "markdown",
   "metadata": {
    "id": "NmbZVWO2BSLU"
   },
   "source": [
    "Next we'll check the number of observations (rows) in the dataset. This can be done by examining the length of the DataFrame's *index*:"
   ]
  },
  {
   "cell_type": "code",
   "execution_count": 9,
   "metadata": {
    "colab": {
     "base_uri": "https://localhost:8080/"
    },
    "id": "QIoJ_maABVOg",
    "outputId": "6fb2c9f4-e5d3-4ab2-f681-4d6a52b9941b"
   },
   "outputs": [
    {
     "data": {
      "text/plain": [
       "60570"
      ]
     },
     "execution_count": 9,
     "metadata": {},
     "output_type": "execute_result"
    }
   ],
   "source": [
    "len(df.index)"
   ]
  },
  {
   "cell_type": "markdown",
   "metadata": {
    "id": "IWQpJOKXBkCm"
   },
   "source": [
    "Similarly, we can check the number of variables (columns) in the dataset by examining the length of the DataFrame's *columns* list:"
   ]
  },
  {
   "cell_type": "code",
   "execution_count": 10,
   "metadata": {
    "colab": {
     "base_uri": "https://localhost:8080/"
    },
    "id": "iwu71C2hBmVG",
    "outputId": "3a6a8eb0-7883-46be-a0f7-575f5cb94e97"
   },
   "outputs": [
    {
     "data": {
      "text/plain": [
       "7"
      ]
     },
     "execution_count": 10,
     "metadata": {},
     "output_type": "execute_result"
    }
   ],
   "source": [
    "len(df.columns)"
   ]
  },
  {
   "cell_type": "markdown",
   "metadata": {
    "id": "g0z8mSwz6ZvH"
   },
   "source": [
    "## 5. Slicing and Indexing\n",
    "Usually, we will not be working with an entire data set all at the same time. Instead, we usually want to pick out specific rows or columns to analyze and work with. In pandas, this can be done using *slicing and indexing*."
   ]
  },
  {
   "cell_type": "markdown",
   "metadata": {},
   "source": [
    "The most basic indexing operation is selecting a specific column. This can be done using standard Python indexing syntax (square brackets) and giving it the name of the column you want. For example, the following code will select the \"id\" column:"
   ]
  },
  {
   "cell_type": "code",
   "execution_count": 11,
   "metadata": {},
   "outputs": [
    {
     "data": {
      "text/plain": [
       "0        24752851\n",
       "1        39926330\n",
       "2        26762140\n",
       "3        29889423\n",
       "4        10582676\n",
       "           ...   \n",
       "60565    39093361\n",
       "60566    37248756\n",
       "60567    16264645\n",
       "60568    30389191\n",
       "60569    26181174\n",
       "Name: id, Length: 60570, dtype: int64"
      ]
     },
     "metadata": {},
     "output_type": "display_data"
    }
   ],
   "source": [
    "id_column = df['id']\n",
    "display(id_column)"
   ]
  },
  {
   "cell_type": "markdown",
   "metadata": {},
   "source": [
    "The syntax for selecting a row is similar, except that you need to tell pandas that you are trying to access a row, since indexing defaults to columns. To do this, use the `loc` variable:"
   ]
  },
  {
   "cell_type": "code",
   "execution_count": 12,
   "metadata": {},
   "outputs": [
    {
     "data": {
      "text/plain": [
       "id                          10582676\n",
       "creation_time    2012-05-14 11:43:27\n",
       "tag                        .htaccess\n",
       "year                            2012\n",
       "month                              5\n",
       "accepted_id                      NaN\n",
       "owner_user_id              1326187.0\n",
       "Name: 4, dtype: object"
      ]
     },
     "metadata": {},
     "output_type": "display_data"
    }
   ],
   "source": [
    "fifth_row = df.loc[4] # remember the index starts from 0, so the fifth row is at index 4\n",
    "display(fifth_row)"
   ]
  },
  {
   "cell_type": "markdown",
   "metadata": {},
   "source": [
    "Both row indexing and column indexing allow you to select multiple rows or columns at once. To do this, you can provide a **list** of row indices or column names, instead of just one:"
   ]
  },
  {
   "cell_type": "code",
   "execution_count": 13,
   "metadata": {
    "colab": {
     "base_uri": "https://localhost:8080/",
     "height": 423
    },
    "id": "WvDmj7y6HwJi",
    "outputId": "7b6483cd-6976-457e-9a5f-7909278f0269"
   },
   "outputs": [
    {
     "data": {
      "text/html": [
       "<div>\n",
       "<style scoped>\n",
       "    .dataframe tbody tr th:only-of-type {\n",
       "        vertical-align: middle;\n",
       "    }\n",
       "\n",
       "    .dataframe tbody tr th {\n",
       "        vertical-align: top;\n",
       "    }\n",
       "\n",
       "    .dataframe thead th {\n",
       "        text-align: right;\n",
       "    }\n",
       "</style>\n",
       "<table border=\"1\" class=\"dataframe\">\n",
       "  <thead>\n",
       "    <tr style=\"text-align: right;\">\n",
       "      <th></th>\n",
       "      <th>id</th>\n",
       "      <th>creation_time</th>\n",
       "    </tr>\n",
       "  </thead>\n",
       "  <tbody>\n",
       "    <tr>\n",
       "      <th>0</th>\n",
       "      <td>24752851</td>\n",
       "      <td>2014-07-15 07:58:49</td>\n",
       "    </tr>\n",
       "    <tr>\n",
       "      <th>1</th>\n",
       "      <td>39926330</td>\n",
       "      <td>2016-10-07 21:55:43</td>\n",
       "    </tr>\n",
       "    <tr>\n",
       "      <th>2</th>\n",
       "      <td>26762140</td>\n",
       "      <td>2014-11-05 16:26:24</td>\n",
       "    </tr>\n",
       "    <tr>\n",
       "      <th>3</th>\n",
       "      <td>29889423</td>\n",
       "      <td>2015-04-27 07:14:00</td>\n",
       "    </tr>\n",
       "    <tr>\n",
       "      <th>4</th>\n",
       "      <td>10582676</td>\n",
       "      <td>2012-05-14 11:43:27</td>\n",
       "    </tr>\n",
       "    <tr>\n",
       "      <th>...</th>\n",
       "      <td>...</td>\n",
       "      <td>...</td>\n",
       "    </tr>\n",
       "    <tr>\n",
       "      <th>60565</th>\n",
       "      <td>39093361</td>\n",
       "      <td>2016-08-23 05:55:50</td>\n",
       "    </tr>\n",
       "    <tr>\n",
       "      <th>60566</th>\n",
       "      <td>37248756</td>\n",
       "      <td>2016-05-16 07:25:11</td>\n",
       "    </tr>\n",
       "    <tr>\n",
       "      <th>60567</th>\n",
       "      <td>16264645</td>\n",
       "      <td>2013-04-28 15:50:01</td>\n",
       "    </tr>\n",
       "    <tr>\n",
       "      <th>60568</th>\n",
       "      <td>30389191</td>\n",
       "      <td>2015-05-22 05:46:07</td>\n",
       "    </tr>\n",
       "    <tr>\n",
       "      <th>60569</th>\n",
       "      <td>26181174</td>\n",
       "      <td>2014-10-03 14:44:59</td>\n",
       "    </tr>\n",
       "  </tbody>\n",
       "</table>\n",
       "<p>60570 rows × 2 columns</p>\n",
       "</div>"
      ],
      "text/plain": [
       "             id        creation_time\n",
       "0      24752851  2014-07-15 07:58:49\n",
       "1      39926330  2016-10-07 21:55:43\n",
       "2      26762140  2014-11-05 16:26:24\n",
       "3      29889423  2015-04-27 07:14:00\n",
       "4      10582676  2012-05-14 11:43:27\n",
       "...         ...                  ...\n",
       "60565  39093361  2016-08-23 05:55:50\n",
       "60566  37248756  2016-05-16 07:25:11\n",
       "60567  16264645  2013-04-28 15:50:01\n",
       "60568  30389191  2015-05-22 05:46:07\n",
       "60569  26181174  2014-10-03 14:44:59\n",
       "\n",
       "[60570 rows x 2 columns]"
      ]
     },
     "metadata": {},
     "output_type": "display_data"
    }
   ],
   "source": [
    "multi_columns = df[['id', 'creation_time']]\n",
    "display(multi_columns)"
   ]
  },
  {
   "cell_type": "code",
   "execution_count": 14,
   "metadata": {},
   "outputs": [
    {
     "data": {
      "text/html": [
       "<div>\n",
       "<style scoped>\n",
       "    .dataframe tbody tr th:only-of-type {\n",
       "        vertical-align: middle;\n",
       "    }\n",
       "\n",
       "    .dataframe tbody tr th {\n",
       "        vertical-align: top;\n",
       "    }\n",
       "\n",
       "    .dataframe thead th {\n",
       "        text-align: right;\n",
       "    }\n",
       "</style>\n",
       "<table border=\"1\" class=\"dataframe\">\n",
       "  <thead>\n",
       "    <tr style=\"text-align: right;\">\n",
       "      <th></th>\n",
       "      <th>id</th>\n",
       "      <th>creation_time</th>\n",
       "      <th>tag</th>\n",
       "      <th>year</th>\n",
       "      <th>month</th>\n",
       "      <th>accepted_id</th>\n",
       "      <th>owner_user_id</th>\n",
       "    </tr>\n",
       "  </thead>\n",
       "  <tbody>\n",
       "    <tr>\n",
       "      <th>0</th>\n",
       "      <td>24752851</td>\n",
       "      <td>2014-07-15 07:58:49</td>\n",
       "      <td>.htaccess</td>\n",
       "      <td>2014</td>\n",
       "      <td>7</td>\n",
       "      <td>24768174.0</td>\n",
       "      <td>509916.0</td>\n",
       "    </tr>\n",
       "    <tr>\n",
       "      <th>1</th>\n",
       "      <td>39926330</td>\n",
       "      <td>2016-10-07 21:55:43</td>\n",
       "      <td>.htaccess</td>\n",
       "      <td>2016</td>\n",
       "      <td>10</td>\n",
       "      <td>NaN</td>\n",
       "      <td>5281549.0</td>\n",
       "    </tr>\n",
       "    <tr>\n",
       "      <th>2</th>\n",
       "      <td>26762140</td>\n",
       "      <td>2014-11-05 16:26:24</td>\n",
       "      <td>.htaccess</td>\n",
       "      <td>2014</td>\n",
       "      <td>11</td>\n",
       "      <td>26762882.0</td>\n",
       "      <td>2091861.0</td>\n",
       "    </tr>\n",
       "    <tr>\n",
       "      <th>3</th>\n",
       "      <td>29889423</td>\n",
       "      <td>2015-04-27 07:14:00</td>\n",
       "      <td>.htaccess</td>\n",
       "      <td>2015</td>\n",
       "      <td>4</td>\n",
       "      <td>NaN</td>\n",
       "      <td>589973.0</td>\n",
       "    </tr>\n",
       "  </tbody>\n",
       "</table>\n",
       "</div>"
      ],
      "text/plain": [
       "         id        creation_time        tag  year  month  accepted_id  \\\n",
       "0  24752851  2014-07-15 07:58:49  .htaccess  2014      7   24768174.0   \n",
       "1  39926330  2016-10-07 21:55:43  .htaccess  2016     10          NaN   \n",
       "2  26762140  2014-11-05 16:26:24  .htaccess  2014     11   26762882.0   \n",
       "3  29889423  2015-04-27 07:14:00  .htaccess  2015      4          NaN   \n",
       "\n",
       "   owner_user_id  \n",
       "0       509916.0  \n",
       "1      5281549.0  \n",
       "2      2091861.0  \n",
       "3       589973.0  "
      ]
     },
     "metadata": {},
     "output_type": "display_data"
    }
   ],
   "source": [
    "multi_rows = df.loc[[0,1,2,3]]\n",
    "display(multi_rows)"
   ]
  },
  {
   "cell_type": "markdown",
   "metadata": {},
   "source": [
    "Since row indices are numerical, python's **slicing** syntax can also be used on them to select a range of rows. This can simplify your code a lot because you can specify a range rather than writing out full list of indices! For example, the following code is equivalent to the previous code:"
   ]
  },
  {
   "cell_type": "code",
   "execution_count": 15,
   "metadata": {},
   "outputs": [
    {
     "data": {
      "text/html": [
       "<div>\n",
       "<style scoped>\n",
       "    .dataframe tbody tr th:only-of-type {\n",
       "        vertical-align: middle;\n",
       "    }\n",
       "\n",
       "    .dataframe tbody tr th {\n",
       "        vertical-align: top;\n",
       "    }\n",
       "\n",
       "    .dataframe thead th {\n",
       "        text-align: right;\n",
       "    }\n",
       "</style>\n",
       "<table border=\"1\" class=\"dataframe\">\n",
       "  <thead>\n",
       "    <tr style=\"text-align: right;\">\n",
       "      <th></th>\n",
       "      <th>id</th>\n",
       "      <th>creation_time</th>\n",
       "      <th>tag</th>\n",
       "      <th>year</th>\n",
       "      <th>month</th>\n",
       "      <th>accepted_id</th>\n",
       "      <th>owner_user_id</th>\n",
       "    </tr>\n",
       "  </thead>\n",
       "  <tbody>\n",
       "    <tr>\n",
       "      <th>0</th>\n",
       "      <td>24752851</td>\n",
       "      <td>2014-07-15 07:58:49</td>\n",
       "      <td>.htaccess</td>\n",
       "      <td>2014</td>\n",
       "      <td>7</td>\n",
       "      <td>24768174.0</td>\n",
       "      <td>509916.0</td>\n",
       "    </tr>\n",
       "    <tr>\n",
       "      <th>1</th>\n",
       "      <td>39926330</td>\n",
       "      <td>2016-10-07 21:55:43</td>\n",
       "      <td>.htaccess</td>\n",
       "      <td>2016</td>\n",
       "      <td>10</td>\n",
       "      <td>NaN</td>\n",
       "      <td>5281549.0</td>\n",
       "    </tr>\n",
       "    <tr>\n",
       "      <th>2</th>\n",
       "      <td>26762140</td>\n",
       "      <td>2014-11-05 16:26:24</td>\n",
       "      <td>.htaccess</td>\n",
       "      <td>2014</td>\n",
       "      <td>11</td>\n",
       "      <td>26762882.0</td>\n",
       "      <td>2091861.0</td>\n",
       "    </tr>\n",
       "    <tr>\n",
       "      <th>3</th>\n",
       "      <td>29889423</td>\n",
       "      <td>2015-04-27 07:14:00</td>\n",
       "      <td>.htaccess</td>\n",
       "      <td>2015</td>\n",
       "      <td>4</td>\n",
       "      <td>NaN</td>\n",
       "      <td>589973.0</td>\n",
       "    </tr>\n",
       "  </tbody>\n",
       "</table>\n",
       "</div>"
      ],
      "text/plain": [
       "         id        creation_time        tag  year  month  accepted_id  \\\n",
       "0  24752851  2014-07-15 07:58:49  .htaccess  2014      7   24768174.0   \n",
       "1  39926330  2016-10-07 21:55:43  .htaccess  2016     10          NaN   \n",
       "2  26762140  2014-11-05 16:26:24  .htaccess  2014     11   26762882.0   \n",
       "3  29889423  2015-04-27 07:14:00  .htaccess  2015      4          NaN   \n",
       "\n",
       "   owner_user_id  \n",
       "0       509916.0  \n",
       "1      5281549.0  \n",
       "2      2091861.0  \n",
       "3       589973.0  "
      ]
     },
     "metadata": {},
     "output_type": "display_data"
    }
   ],
   "source": [
    "multi_rows = df.loc[0:3] # important difference from regular python: pandas slices include *both* indices!\n",
    "display(multi_rows)"
   ]
  },
  {
   "cell_type": "markdown",
   "metadata": {
    "id": "2NYv4_YSKO4f"
   },
   "source": [
    "Additionally, we may sometimes want to pick out a **single** value from the DataFrame. For example, suppose we want to find the question ID in the fifth row. We can do this by giving both a row and column to the `loc` indexer. Note that the row and column **must** be given in that order (you cannot give the column first) and should be separated by a comma, as shown below:"
   ]
  },
  {
   "cell_type": "code",
   "execution_count": 16,
   "metadata": {
    "colab": {
     "base_uri": "https://localhost:8080/",
     "height": 81
    },
    "id": "iSrJcPshKg1N",
    "outputId": "ec9e7a73-ce95-4187-f812-1266f6ab22a7"
   },
   "outputs": [
    {
     "name": "stdout",
     "output_type": "stream",
     "text": [
      "10582676\n"
     ]
    }
   ],
   "source": [
    "fifth_id = df.loc[4,\"id\"]\n",
    "print(fifth_id)"
   ]
  },
  {
   "cell_type": "markdown",
   "metadata": {},
   "source": [
    "Finally, the same syntax can be used to select multiple rows **and** columns at the same time; you simply need to provide a list or range of rows, followed by a list of column names, separated by a comma:"
   ]
  },
  {
   "cell_type": "code",
   "execution_count": 17,
   "metadata": {},
   "outputs": [
    {
     "data": {
      "text/html": [
       "<div>\n",
       "<style scoped>\n",
       "    .dataframe tbody tr th:only-of-type {\n",
       "        vertical-align: middle;\n",
       "    }\n",
       "\n",
       "    .dataframe tbody tr th {\n",
       "        vertical-align: top;\n",
       "    }\n",
       "\n",
       "    .dataframe thead th {\n",
       "        text-align: right;\n",
       "    }\n",
       "</style>\n",
       "<table border=\"1\" class=\"dataframe\">\n",
       "  <thead>\n",
       "    <tr style=\"text-align: right;\">\n",
       "      <th></th>\n",
       "      <th>id</th>\n",
       "      <th>creation_time</th>\n",
       "    </tr>\n",
       "  </thead>\n",
       "  <tbody>\n",
       "    <tr>\n",
       "      <th>0</th>\n",
       "      <td>24752851</td>\n",
       "      <td>2014-07-15 07:58:49</td>\n",
       "    </tr>\n",
       "    <tr>\n",
       "      <th>1</th>\n",
       "      <td>39926330</td>\n",
       "      <td>2016-10-07 21:55:43</td>\n",
       "    </tr>\n",
       "    <tr>\n",
       "      <th>2</th>\n",
       "      <td>26762140</td>\n",
       "      <td>2014-11-05 16:26:24</td>\n",
       "    </tr>\n",
       "    <tr>\n",
       "      <th>3</th>\n",
       "      <td>29889423</td>\n",
       "      <td>2015-04-27 07:14:00</td>\n",
       "    </tr>\n",
       "  </tbody>\n",
       "</table>\n",
       "</div>"
      ],
      "text/plain": [
       "         id        creation_time\n",
       "0  24752851  2014-07-15 07:58:49\n",
       "1  39926330  2016-10-07 21:55:43\n",
       "2  26762140  2014-11-05 16:26:24\n",
       "3  29889423  2015-04-27 07:14:00"
      ]
     },
     "metadata": {},
     "output_type": "display_data"
    }
   ],
   "source": [
    "multi_row_and_col = df.loc[0:3,[\"id\", \"creation_time\"]]\n",
    "display(multi_row_and_col)"
   ]
  },
  {
   "cell_type": "markdown",
   "metadata": {
    "id": "CqhRO0k3BvM2"
   },
   "source": [
    "## Exercise 1\n",
    "\n",
    "What is the tag of the 50th question in the data set?"
   ]
  },
  {
   "cell_type": "code",
   "execution_count": 18,
   "metadata": {
    "colab": {
     "base_uri": "https://localhost:8080/",
     "height": 81
    },
    "id": "qAnp6yhjCL68",
    "outputId": "f91db23c-48da-44c5-c084-00d64fb109f3"
   },
   "outputs": [
    {
     "name": "stdout",
     "output_type": "stream",
     "text": [
      ".htaccess\n"
     ]
    }
   ],
   "source": [
    "print(df.loc[49,\"tag\"])"
   ]
  },
  {
   "cell_type": "markdown",
   "metadata": {},
   "source": [
    "## 6. Summarizing column data\n",
    "Previously, we sanity checked our data by checking its structure (data types and number of rows and columns). A second common step in preliminary exploration of the data is to examine individual columns (with the help of indexing, as covered previously). pandas can help with this process by offering several methods to *summarize* the data in a column."
   ]
  },
  {
   "cell_type": "markdown",
   "metadata": {},
   "source": [
    "### Summarizing numerical data\n",
    "Some columns contain numerical data. For example, years in the \"year\" column are represented as numbers. For numerical data, pandas offers a number of methods that implement common mathematical summary functions, such as finding the min and the max:"
   ]
  },
  {
   "cell_type": "code",
   "execution_count": 38,
   "metadata": {},
   "outputs": [
    {
     "name": "stdout",
     "output_type": "stream",
     "text": [
      "2008\n",
      "2020\n"
     ]
    }
   ],
   "source": [
    "print(df[\"year\"].min()) # what's the earliest year in the data?\n",
    "print(df[\"year\"].max()) # what's the latest year in the data?"
   ]
  },
  {
   "cell_type": "markdown",
   "metadata": {},
   "source": [
    "### Summarizing categorical data\n",
    "Mathematical operations like min and max are useful for quickly summarizing numerical data. But not all columns are numerical. For example, the \"tag\" column contains text. But notice that the text in the \"text\" column is not just any arbitrary text! Rather, it seems to take on specific, repeated values, like \".htaccess\" or \"zxing\". Therefore, \"tag\" is what data scientists refer to as a *categorical variable*: one that can only take on values from a fixed, finite set of possibilities. To summarize categorical data, researchers generally want to know what is the set of values the variable can take? In pandas, this can be done using the `unique` method:"
   ]
  },
  {
   "cell_type": "code",
   "execution_count": 23,
   "metadata": {},
   "outputs": [
    {
     "name": "stdout",
     "output_type": "stream",
     "text": [
      "['.htaccess' '.htpasswd' '.net' ... 'zurb-foundation' 'zurb-foundation-6'\n",
      " 'zxing']\n"
     ]
    }
   ],
   "source": [
    "print(df[\"tag\"].unique())"
   ]
  },
  {
   "cell_type": "markdown",
   "metadata": {
    "id": "jRw50ceO_b_k"
   },
   "source": [
    "## Exercise 2\n",
    "\n",
    "- Which years and months of questions are in the data?\n"
   ]
  },
  {
   "cell_type": "code",
   "execution_count": 24,
   "metadata": {
    "colab": {
     "base_uri": "https://localhost:8080/"
    },
    "id": "IsL_ZU9BAiSY",
    "outputId": "d68ca76a-96ab-4923-99be-bc769795b941"
   },
   "outputs": [
    {
     "name": "stdout",
     "output_type": "stream",
     "text": [
      "[2014 2016 2015 2012 2017 2010 2019 2013 2018 2020 2011 2008 2009]\n",
      "[ 7 10 11  4  5  3 12  2  6  1  8  9]\n"
     ]
    }
   ],
   "source": [
    "print(df['year'].unique())\n",
    "print(df['month'].unique())"
   ]
  },
  {
   "cell_type": "markdown",
   "metadata": {
    "id": "vIQI7zsSC2FF"
   },
   "source": [
    "## 7. Querying using conditions based on column values\n",
    "\n",
    "Now we can start looking at more advanced data analysis. Previously, we selected subsets of rows by giving the `loc` indexer a list or range of row indices. Most often, however, we don't know ahead of time which rows we want to analyze; instead, we more often want to select rows based on some conditions. For example, we might want all questions that took place in a specific year, or all questions that have a specific tag. To achieve this, the `loc` indexer can actually be used with conditions, not just with indices! \n",
    "\n",
    "This is best explained through examples. Let's start with the first example question, looking for all questions that took place in a specific year, let's say 2008. The syntax for the comparison would be `df['year'] == 2008`, and we can pass this comparison directly to `loc`, as follows:"
   ]
  },
  {
   "cell_type": "code",
   "execution_count": 25,
   "metadata": {
    "colab": {
     "base_uri": "https://localhost:8080/",
     "height": 423
    },
    "id": "IHWjCNENBH43",
    "outputId": "0d767471-f6e7-4604-bd4c-dad13ad54516"
   },
   "outputs": [
    {
     "data": {
      "text/html": [
       "<div>\n",
       "<style scoped>\n",
       "    .dataframe tbody tr th:only-of-type {\n",
       "        vertical-align: middle;\n",
       "    }\n",
       "\n",
       "    .dataframe tbody tr th {\n",
       "        vertical-align: top;\n",
       "    }\n",
       "\n",
       "    .dataframe thead th {\n",
       "        text-align: right;\n",
       "    }\n",
       "</style>\n",
       "<table border=\"1\" class=\"dataframe\">\n",
       "  <thead>\n",
       "    <tr style=\"text-align: right;\">\n",
       "      <th></th>\n",
       "      <th>id</th>\n",
       "      <th>creation_time</th>\n",
       "      <th>tag</th>\n",
       "      <th>year</th>\n",
       "      <th>month</th>\n",
       "      <th>accepted_id</th>\n",
       "      <th>owner_user_id</th>\n",
       "    </tr>\n",
       "  </thead>\n",
       "  <tbody>\n",
       "    <tr>\n",
       "      <th>92</th>\n",
       "      <td>126868</td>\n",
       "      <td>2008-09-24 12:35:20</td>\n",
       "      <td>.net</td>\n",
       "      <td>2008</td>\n",
       "      <td>9</td>\n",
       "      <td>126910.0</td>\n",
       "      <td>369.0</td>\n",
       "    </tr>\n",
       "    <tr>\n",
       "      <th>110</th>\n",
       "      <td>301290</td>\n",
       "      <td>2008-11-19 08:15:01</td>\n",
       "      <td>.net</td>\n",
       "      <td>2008</td>\n",
       "      <td>11</td>\n",
       "      <td>301333.0</td>\n",
       "      <td>35012.0</td>\n",
       "    </tr>\n",
       "    <tr>\n",
       "      <th>186</th>\n",
       "      <td>36014</td>\n",
       "      <td>2008-08-30 14:57:13</td>\n",
       "      <td>.net</td>\n",
       "      <td>2008</td>\n",
       "      <td>8</td>\n",
       "      <td>41208.0</td>\n",
       "      <td>3347.0</td>\n",
       "    </tr>\n",
       "    <tr>\n",
       "      <th>227</th>\n",
       "      <td>191812</td>\n",
       "      <td>2008-10-10 15:16:30</td>\n",
       "      <td>.net</td>\n",
       "      <td>2008</td>\n",
       "      <td>10</td>\n",
       "      <td>193144.0</td>\n",
       "      <td>11356.0</td>\n",
       "    </tr>\n",
       "    <tr>\n",
       "      <th>249</th>\n",
       "      <td>50046</td>\n",
       "      <td>2008-09-08 16:05:17</td>\n",
       "      <td>.net</td>\n",
       "      <td>2008</td>\n",
       "      <td>9</td>\n",
       "      <td>50057.0</td>\n",
       "      <td>770.0</td>\n",
       "    </tr>\n",
       "    <tr>\n",
       "      <th>...</th>\n",
       "      <td>...</td>\n",
       "      <td>...</td>\n",
       "      <td>...</td>\n",
       "      <td>...</td>\n",
       "      <td>...</td>\n",
       "      <td>...</td>\n",
       "      <td>...</td>\n",
       "    </tr>\n",
       "    <tr>\n",
       "      <th>58981</th>\n",
       "      <td>235700</td>\n",
       "      <td>2008-10-25 00:44:49</td>\n",
       "      <td>winforms</td>\n",
       "      <td>2008</td>\n",
       "      <td>10</td>\n",
       "      <td>235721.0</td>\n",
       "      <td>22437.0</td>\n",
       "    </tr>\n",
       "    <tr>\n",
       "      <th>59011</th>\n",
       "      <td>18292</td>\n",
       "      <td>2008-08-20 16:13:39</td>\n",
       "      <td>winscp</td>\n",
       "      <td>2008</td>\n",
       "      <td>8</td>\n",
       "      <td>18370.0</td>\n",
       "      <td>1946.0</td>\n",
       "    </tr>\n",
       "    <tr>\n",
       "      <th>59040</th>\n",
       "      <td>160216</td>\n",
       "      <td>2008-10-01 23:25:43</td>\n",
       "      <td>wolfram-mathematica</td>\n",
       "      <td>2008</td>\n",
       "      <td>10</td>\n",
       "      <td>4700704.0</td>\n",
       "      <td>4234.0</td>\n",
       "    </tr>\n",
       "    <tr>\n",
       "      <th>59291</th>\n",
       "      <td>377470</td>\n",
       "      <td>2008-12-18 10:28:17</td>\n",
       "      <td>workflow</td>\n",
       "      <td>2008</td>\n",
       "      <td>12</td>\n",
       "      <td>NaN</td>\n",
       "      <td>47349.0</td>\n",
       "    </tr>\n",
       "    <tr>\n",
       "      <th>60316</th>\n",
       "      <td>317828</td>\n",
       "      <td>2008-11-25 15:59:31</td>\n",
       "      <td>xslt</td>\n",
       "      <td>2008</td>\n",
       "      <td>11</td>\n",
       "      <td>317839.0</td>\n",
       "      <td>5653.0</td>\n",
       "    </tr>\n",
       "  </tbody>\n",
       "</table>\n",
       "<p>141 rows × 7 columns</p>\n",
       "</div>"
      ],
      "text/plain": [
       "           id        creation_time                  tag  year  month  \\\n",
       "92     126868  2008-09-24 12:35:20                 .net  2008      9   \n",
       "110    301290  2008-11-19 08:15:01                 .net  2008     11   \n",
       "186     36014  2008-08-30 14:57:13                 .net  2008      8   \n",
       "227    191812  2008-10-10 15:16:30                 .net  2008     10   \n",
       "249     50046  2008-09-08 16:05:17                 .net  2008      9   \n",
       "...       ...                  ...                  ...   ...    ...   \n",
       "58981  235700  2008-10-25 00:44:49             winforms  2008     10   \n",
       "59011   18292  2008-08-20 16:13:39               winscp  2008      8   \n",
       "59040  160216  2008-10-01 23:25:43  wolfram-mathematica  2008     10   \n",
       "59291  377470  2008-12-18 10:28:17             workflow  2008     12   \n",
       "60316  317828  2008-11-25 15:59:31                 xslt  2008     11   \n",
       "\n",
       "       accepted_id  owner_user_id  \n",
       "92        126910.0          369.0  \n",
       "110       301333.0        35012.0  \n",
       "186        41208.0         3347.0  \n",
       "227       193144.0        11356.0  \n",
       "249        50057.0          770.0  \n",
       "...            ...            ...  \n",
       "58981     235721.0        22437.0  \n",
       "59011      18370.0         1946.0  \n",
       "59040    4700704.0         4234.0  \n",
       "59291          NaN        47349.0  \n",
       "60316     317839.0         5653.0  \n",
       "\n",
       "[141 rows x 7 columns]"
      ]
     },
     "metadata": {},
     "output_type": "display_data"
    }
   ],
   "source": [
    "year2008 = df.loc[df['year'] == 2008]\n",
    "display(year2008)"
   ]
  },
  {
   "cell_type": "markdown",
   "metadata": {},
   "source": [
    "Notice that this syntax is similar to the filtering syntax used by numpy (as seen in the previous Python workshop) and by R. Alternatively, if you are familiar with SQL, you can think of the above code as being equivalent to the SQL query `select * from df where year=2008`.\n",
    "\n",
    "Like in numpy, you can include multiple comparisons in a single query, combining them using operators `&` for \"and\" and `|` for \"or\". So, for example, if we wanted only questions from August 2008:"
   ]
  },
  {
   "cell_type": "code",
   "execution_count": 26,
   "metadata": {
    "colab": {
     "base_uri": "https://localhost:8080/",
     "height": 423
    },
    "id": "B4xk3-AJDAPA",
    "outputId": "c1994fa7-33c0-4c39-b1d4-b52ee8a2f112"
   },
   "outputs": [
    {
     "data": {
      "text/html": [
       "<div>\n",
       "<style scoped>\n",
       "    .dataframe tbody tr th:only-of-type {\n",
       "        vertical-align: middle;\n",
       "    }\n",
       "\n",
       "    .dataframe tbody tr th {\n",
       "        vertical-align: top;\n",
       "    }\n",
       "\n",
       "    .dataframe thead th {\n",
       "        text-align: right;\n",
       "    }\n",
       "</style>\n",
       "<table border=\"1\" class=\"dataframe\">\n",
       "  <thead>\n",
       "    <tr style=\"text-align: right;\">\n",
       "      <th></th>\n",
       "      <th>id</th>\n",
       "      <th>creation_time</th>\n",
       "      <th>tag</th>\n",
       "      <th>year</th>\n",
       "      <th>month</th>\n",
       "      <th>accepted_id</th>\n",
       "      <th>owner_user_id</th>\n",
       "    </tr>\n",
       "  </thead>\n",
       "  <tbody>\n",
       "    <tr>\n",
       "      <th>186</th>\n",
       "      <td>36014</td>\n",
       "      <td>2008-08-30 14:57:13</td>\n",
       "      <td>.net</td>\n",
       "      <td>2008</td>\n",
       "      <td>8</td>\n",
       "      <td>41208.0</td>\n",
       "      <td>3347.0</td>\n",
       "    </tr>\n",
       "    <tr>\n",
       "      <th>385</th>\n",
       "      <td>8142</td>\n",
       "      <td>2008-08-11 19:50:31</td>\n",
       "      <td>.net</td>\n",
       "      <td>2008</td>\n",
       "      <td>8</td>\n",
       "      <td>8152.0</td>\n",
       "      <td>380.0</td>\n",
       "    </tr>\n",
       "    <tr>\n",
       "      <th>5888</th>\n",
       "      <td>6719</td>\n",
       "      <td>2008-08-09 09:51:37</td>\n",
       "      <td>asp.net-2.0</td>\n",
       "      <td>2008</td>\n",
       "      <td>8</td>\n",
       "      <td>6720.0</td>\n",
       "      <td>133.0</td>\n",
       "    </tr>\n",
       "    <tr>\n",
       "      <th>19152</th>\n",
       "      <td>16233</td>\n",
       "      <td>2008-08-19 14:13:18</td>\n",
       "      <td>fonts</td>\n",
       "      <td>2008</td>\n",
       "      <td>8</td>\n",
       "      <td>16255.0</td>\n",
       "      <td>1000.0</td>\n",
       "    </tr>\n",
       "    <tr>\n",
       "      <th>30592</th>\n",
       "      <td>26620</td>\n",
       "      <td>2008-08-25 18:45:27</td>\n",
       "      <td>jquery</td>\n",
       "      <td>2008</td>\n",
       "      <td>8</td>\n",
       "      <td>26681.0</td>\n",
       "      <td>2138.0</td>\n",
       "    </tr>\n",
       "    <tr>\n",
       "      <th>33164</th>\n",
       "      <td>1005</td>\n",
       "      <td>2008-08-04 03:34:02</td>\n",
       "      <td>linux</td>\n",
       "      <td>2008</td>\n",
       "      <td>8</td>\n",
       "      <td>37042.0</td>\n",
       "      <td>85.0</td>\n",
       "    </tr>\n",
       "    <tr>\n",
       "      <th>33260</th>\n",
       "      <td>263</td>\n",
       "      <td>2008-08-01 23:27:24</td>\n",
       "      <td>linux</td>\n",
       "      <td>2008</td>\n",
       "      <td>8</td>\n",
       "      <td>607.0</td>\n",
       "      <td>61.0</td>\n",
       "    </tr>\n",
       "    <tr>\n",
       "      <th>35715</th>\n",
       "      <td>20389</td>\n",
       "      <td>2008-08-21 16:12:45</td>\n",
       "      <td>moss</td>\n",
       "      <td>2008</td>\n",
       "      <td>8</td>\n",
       "      <td>33052.0</td>\n",
       "      <td>1453.0</td>\n",
       "    </tr>\n",
       "    <tr>\n",
       "      <th>36128</th>\n",
       "      <td>2056</td>\n",
       "      <td>2008-08-05 10:06:33</td>\n",
       "      <td>mvp</td>\n",
       "      <td>2008</td>\n",
       "      <td>8</td>\n",
       "      <td>101561.0</td>\n",
       "      <td>358.0</td>\n",
       "    </tr>\n",
       "    <tr>\n",
       "      <th>45334</th>\n",
       "      <td>4565</td>\n",
       "      <td>2008-08-07 10:20:16</td>\n",
       "      <td>qos</td>\n",
       "      <td>2008</td>\n",
       "      <td>8</td>\n",
       "      <td>NaN</td>\n",
       "      <td>486.0</td>\n",
       "    </tr>\n",
       "    <tr>\n",
       "      <th>47327</th>\n",
       "      <td>32941</td>\n",
       "      <td>2008-08-28 18:03:36</td>\n",
       "      <td>reporting-services</td>\n",
       "      <td>2008</td>\n",
       "      <td>8</td>\n",
       "      <td>344461.0</td>\n",
       "      <td>2184.0</td>\n",
       "    </tr>\n",
       "    <tr>\n",
       "      <th>53315</th>\n",
       "      <td>16142</td>\n",
       "      <td>2008-08-19 13:22:03</td>\n",
       "      <td>svn</td>\n",
       "      <td>2008</td>\n",
       "      <td>8</td>\n",
       "      <td>16163.0</td>\n",
       "      <td>914.0</td>\n",
       "    </tr>\n",
       "    <tr>\n",
       "      <th>59011</th>\n",
       "      <td>18292</td>\n",
       "      <td>2008-08-20 16:13:39</td>\n",
       "      <td>winscp</td>\n",
       "      <td>2008</td>\n",
       "      <td>8</td>\n",
       "      <td>18370.0</td>\n",
       "      <td>1946.0</td>\n",
       "    </tr>\n",
       "  </tbody>\n",
       "</table>\n",
       "</div>"
      ],
      "text/plain": [
       "          id        creation_time                 tag  year  month  \\\n",
       "186    36014  2008-08-30 14:57:13                .net  2008      8   \n",
       "385     8142  2008-08-11 19:50:31                .net  2008      8   \n",
       "5888    6719  2008-08-09 09:51:37         asp.net-2.0  2008      8   \n",
       "19152  16233  2008-08-19 14:13:18               fonts  2008      8   \n",
       "30592  26620  2008-08-25 18:45:27              jquery  2008      8   \n",
       "33164   1005  2008-08-04 03:34:02               linux  2008      8   \n",
       "33260    263  2008-08-01 23:27:24               linux  2008      8   \n",
       "35715  20389  2008-08-21 16:12:45                moss  2008      8   \n",
       "36128   2056  2008-08-05 10:06:33                 mvp  2008      8   \n",
       "45334   4565  2008-08-07 10:20:16                 qos  2008      8   \n",
       "47327  32941  2008-08-28 18:03:36  reporting-services  2008      8   \n",
       "53315  16142  2008-08-19 13:22:03                 svn  2008      8   \n",
       "59011  18292  2008-08-20 16:13:39              winscp  2008      8   \n",
       "\n",
       "       accepted_id  owner_user_id  \n",
       "186        41208.0         3347.0  \n",
       "385         8152.0          380.0  \n",
       "5888        6720.0          133.0  \n",
       "19152      16255.0         1000.0  \n",
       "30592      26681.0         2138.0  \n",
       "33164      37042.0           85.0  \n",
       "33260        607.0           61.0  \n",
       "35715      33052.0         1453.0  \n",
       "36128     101561.0          358.0  \n",
       "45334          NaN          486.0  \n",
       "47327     344461.0         2184.0  \n",
       "53315      16163.0          914.0  \n",
       "59011      18370.0         1946.0  "
      ]
     },
     "metadata": {},
     "output_type": "display_data"
    }
   ],
   "source": [
    "august2008 = df.loc[(df['year']==2008)&(df['month']==8)]\n",
    "display(august2008)"
   ]
  },
  {
   "cell_type": "markdown",
   "metadata": {},
   "source": [
    "Notice that when we run a query, the matching rows get returned in a new DataFrame, which is a subset of the original, containing only rows that matched the query. We can confirm that the result is still a DataFrame by checking the type of the variable:"
   ]
  },
  {
   "cell_type": "code",
   "execution_count": 27,
   "metadata": {},
   "outputs": [
    {
     "data": {
      "text/plain": [
       "pandas.core.frame.DataFrame"
      ]
     },
     "execution_count": 27,
     "metadata": {},
     "output_type": "execute_result"
    }
   ],
   "source": [
    "type(august2008)"
   ]
  },
  {
   "cell_type": "markdown",
   "metadata": {},
   "source": [
    "This means that we can run all of the previously described DataFrame methods on the query results! For example, this can be useful for finding out how many rows matched the query:"
   ]
  },
  {
   "cell_type": "code",
   "execution_count": 28,
   "metadata": {},
   "outputs": [
    {
     "name": "stdout",
     "output_type": "stream",
     "text": [
      "13\n"
     ]
    }
   ],
   "source": [
    "print(len(august2008.index)) # we can use the same code we saw earlier for counting rows, because august2008 is still a DataFrame"
   ]
  },
  {
   "cell_type": "markdown",
   "metadata": {},
   "source": [
    "## Exercise 3\n",
    "\n",
    "How many questions in 2013 had the tag \"python\"?"
   ]
  },
  {
   "cell_type": "code",
   "execution_count": 29,
   "metadata": {},
   "outputs": [
    {
     "name": "stdout",
     "output_type": "stream",
     "text": [
      "89\n"
     ]
    }
   ],
   "source": [
    "python2013 = df.loc[(df['year']==2013)&(df['tag']=='python')]\n",
    "print(len(python2013.index))"
   ]
  },
  {
   "cell_type": "markdown",
   "metadata": {
    "id": "yZ-cXW6P6Opk"
   },
   "source": [
    "## 8. Modifying and adding rows\n",
    "Queries aren't just useful for accessing data; we may sometimes also want to *modify* data that matches a query! One common reason to do this is for data cleaning. For example, some questions in our data set have the tag \".net\" and others have the tag \"net\", but both of these actually refer to the same thing (the Microsoft dotNET framework). So when we clean the data, we might want to standardize all instances of \".net\" to \"net\". This can be done with the following steps:\n",
    "\n",
    "1. Write a query to find all instances of the thing you want to clean (in this case, questions with the tag \".net\") (See Section 7)\n",
    "2. Use row-and-column indexing to combine this query (which selects certain rows) with column selection (See Section 5)\n",
    "3. Use Python assigment syntax (the \"=\" operator) to set the new value\n",
    "\n",
    "Again, this is best understood through an example. The following code implements all the steps to standardize \".net\" to \"net\":"
   ]
  },
  {
   "cell_type": "code",
   "execution_count": 31,
   "metadata": {
    "colab": {
     "base_uri": "https://localhost:8080/",
     "height": 511
    },
    "id": "EVP5mQ1R6Tl6",
    "outputId": "c3a2e13f-6744-4c6b-8ae4-f251dcc7db4e"
   },
   "outputs": [
    {
     "name": "stdout",
     "output_type": "stream",
     "text": [
      "306\n",
      "0\n"
     ]
    }
   ],
   "source": [
    "# Convert .net to net\n",
    "df.loc[(df['tag'] == '.net'), 'tag'] = 'net'\n",
    "# to confirm that it worked, count how many questions are now tagged \"net\" and how many are tagged \".net\" (the latter should be zero)\n",
    "print(len(df.loc[df['tag'] == 'net'].index))\n",
    "print(len(df.loc[df['tag'] == '.net'].index))"
   ]
  },
  {
   "cell_type": "markdown",
   "metadata": {},
   "source": [
    "In this example, we *replaced* values in an existing column. But there are other cases where instead, you might want to preserve the original data, and instead put the cleaned data in a new column. pandas lets us do this too! As an example, let's recall the missing values in the \"accepted_id\" column that we told you about earlier. Remember that the interpretation of these missing values is that the question did not receive an accepted answer. For some research questions, we might simply want to know *whether* a question received an accepted answer or not, without caring about the ID of the answer. But this does not mean we want to completely replace the \"accepted_id\" column, because for *other* research questions we might still care about the answer IDs! So instead, we might want to create a *new* column that contains the simplified information of whether a question received an accepted answer.\n",
    "\n",
    "We will start by creating a new column, let's call it \"has_answer\". Initially, we'll create the column as a copy of \"accepted_id\"; we can then modify it (using code similar to what we did previously for \"tag\") without affecting the original column. To create a new column, we can simply use Python assigment syntax:"
   ]
  },
  {
   "cell_type": "code",
   "execution_count": 35,
   "metadata": {},
   "outputs": [
    {
     "data": {
      "text/html": [
       "<div>\n",
       "<style scoped>\n",
       "    .dataframe tbody tr th:only-of-type {\n",
       "        vertical-align: middle;\n",
       "    }\n",
       "\n",
       "    .dataframe tbody tr th {\n",
       "        vertical-align: top;\n",
       "    }\n",
       "\n",
       "    .dataframe thead th {\n",
       "        text-align: right;\n",
       "    }\n",
       "</style>\n",
       "<table border=\"1\" class=\"dataframe\">\n",
       "  <thead>\n",
       "    <tr style=\"text-align: right;\">\n",
       "      <th></th>\n",
       "      <th>id</th>\n",
       "      <th>creation_time</th>\n",
       "      <th>tag</th>\n",
       "      <th>year</th>\n",
       "      <th>month</th>\n",
       "      <th>accepted_id</th>\n",
       "      <th>owner_user_id</th>\n",
       "      <th>has_answer</th>\n",
       "    </tr>\n",
       "  </thead>\n",
       "  <tbody>\n",
       "    <tr>\n",
       "      <th>0</th>\n",
       "      <td>24752851</td>\n",
       "      <td>2014-07-15 07:58:49</td>\n",
       "      <td>.htaccess</td>\n",
       "      <td>2014</td>\n",
       "      <td>7</td>\n",
       "      <td>24768174.0</td>\n",
       "      <td>509916.0</td>\n",
       "      <td>24768174.0</td>\n",
       "    </tr>\n",
       "    <tr>\n",
       "      <th>1</th>\n",
       "      <td>39926330</td>\n",
       "      <td>2016-10-07 21:55:43</td>\n",
       "      <td>.htaccess</td>\n",
       "      <td>2016</td>\n",
       "      <td>10</td>\n",
       "      <td>NaN</td>\n",
       "      <td>5281549.0</td>\n",
       "      <td>NaN</td>\n",
       "    </tr>\n",
       "    <tr>\n",
       "      <th>2</th>\n",
       "      <td>26762140</td>\n",
       "      <td>2014-11-05 16:26:24</td>\n",
       "      <td>.htaccess</td>\n",
       "      <td>2014</td>\n",
       "      <td>11</td>\n",
       "      <td>26762882.0</td>\n",
       "      <td>2091861.0</td>\n",
       "      <td>26762882.0</td>\n",
       "    </tr>\n",
       "    <tr>\n",
       "      <th>3</th>\n",
       "      <td>29889423</td>\n",
       "      <td>2015-04-27 07:14:00</td>\n",
       "      <td>.htaccess</td>\n",
       "      <td>2015</td>\n",
       "      <td>4</td>\n",
       "      <td>NaN</td>\n",
       "      <td>589973.0</td>\n",
       "      <td>NaN</td>\n",
       "    </tr>\n",
       "    <tr>\n",
       "      <th>4</th>\n",
       "      <td>10582676</td>\n",
       "      <td>2012-05-14 11:43:27</td>\n",
       "      <td>.htaccess</td>\n",
       "      <td>2012</td>\n",
       "      <td>5</td>\n",
       "      <td>NaN</td>\n",
       "      <td>1326187.0</td>\n",
       "      <td>NaN</td>\n",
       "    </tr>\n",
       "    <tr>\n",
       "      <th>...</th>\n",
       "      <td>...</td>\n",
       "      <td>...</td>\n",
       "      <td>...</td>\n",
       "      <td>...</td>\n",
       "      <td>...</td>\n",
       "      <td>...</td>\n",
       "      <td>...</td>\n",
       "      <td>...</td>\n",
       "    </tr>\n",
       "    <tr>\n",
       "      <th>60565</th>\n",
       "      <td>39093361</td>\n",
       "      <td>2016-08-23 05:55:50</td>\n",
       "      <td>zurb-foundation</td>\n",
       "      <td>2016</td>\n",
       "      <td>8</td>\n",
       "      <td>NaN</td>\n",
       "      <td>2729887.0</td>\n",
       "      <td>NaN</td>\n",
       "    </tr>\n",
       "    <tr>\n",
       "      <th>60566</th>\n",
       "      <td>37248756</td>\n",
       "      <td>2016-05-16 07:25:11</td>\n",
       "      <td>zurb-foundation-6</td>\n",
       "      <td>2016</td>\n",
       "      <td>5</td>\n",
       "      <td>37251132.0</td>\n",
       "      <td>1148107.0</td>\n",
       "      <td>37251132.0</td>\n",
       "    </tr>\n",
       "    <tr>\n",
       "      <th>60567</th>\n",
       "      <td>16264645</td>\n",
       "      <td>2013-04-28 15:50:01</td>\n",
       "      <td>zxing</td>\n",
       "      <td>2013</td>\n",
       "      <td>4</td>\n",
       "      <td>16264687.0</td>\n",
       "      <td>2102871.0</td>\n",
       "      <td>16264687.0</td>\n",
       "    </tr>\n",
       "    <tr>\n",
       "      <th>60568</th>\n",
       "      <td>30389191</td>\n",
       "      <td>2015-05-22 05:46:07</td>\n",
       "      <td>zxing</td>\n",
       "      <td>2015</td>\n",
       "      <td>5</td>\n",
       "      <td>NaN</td>\n",
       "      <td>571433.0</td>\n",
       "      <td>NaN</td>\n",
       "    </tr>\n",
       "    <tr>\n",
       "      <th>60569</th>\n",
       "      <td>26181174</td>\n",
       "      <td>2014-10-03 14:44:59</td>\n",
       "      <td>zxing</td>\n",
       "      <td>2014</td>\n",
       "      <td>10</td>\n",
       "      <td>NaN</td>\n",
       "      <td>1491212.0</td>\n",
       "      <td>NaN</td>\n",
       "    </tr>\n",
       "  </tbody>\n",
       "</table>\n",
       "<p>60570 rows × 8 columns</p>\n",
       "</div>"
      ],
      "text/plain": [
       "             id        creation_time                tag  year  month  \\\n",
       "0      24752851  2014-07-15 07:58:49          .htaccess  2014      7   \n",
       "1      39926330  2016-10-07 21:55:43          .htaccess  2016     10   \n",
       "2      26762140  2014-11-05 16:26:24          .htaccess  2014     11   \n",
       "3      29889423  2015-04-27 07:14:00          .htaccess  2015      4   \n",
       "4      10582676  2012-05-14 11:43:27          .htaccess  2012      5   \n",
       "...         ...                  ...                ...   ...    ...   \n",
       "60565  39093361  2016-08-23 05:55:50    zurb-foundation  2016      8   \n",
       "60566  37248756  2016-05-16 07:25:11  zurb-foundation-6  2016      5   \n",
       "60567  16264645  2013-04-28 15:50:01              zxing  2013      4   \n",
       "60568  30389191  2015-05-22 05:46:07              zxing  2015      5   \n",
       "60569  26181174  2014-10-03 14:44:59              zxing  2014     10   \n",
       "\n",
       "       accepted_id  owner_user_id  has_answer  \n",
       "0       24768174.0       509916.0  24768174.0  \n",
       "1              NaN      5281549.0         NaN  \n",
       "2       26762882.0      2091861.0  26762882.0  \n",
       "3              NaN       589973.0         NaN  \n",
       "4              NaN      1326187.0         NaN  \n",
       "...            ...            ...         ...  \n",
       "60565          NaN      2729887.0         NaN  \n",
       "60566   37251132.0      1148107.0  37251132.0  \n",
       "60567   16264687.0      2102871.0  16264687.0  \n",
       "60568          NaN       571433.0         NaN  \n",
       "60569          NaN      1491212.0         NaN  \n",
       "\n",
       "[60570 rows x 8 columns]"
      ]
     },
     "metadata": {},
     "output_type": "display_data"
    }
   ],
   "source": [
    "df[\"has_answer\"] = df[\"accepted_id\"]\n",
    "display(df)"
   ]
  },
  {
   "cell_type": "markdown",
   "metadata": {},
   "source": [
    "We see that there is now a new column \"has_answer\" that is an exact copy of \"accepted_id\". Next we will modify it as follows: rows containing missing values will be set to 0 (representing \"no answer\") and the rest will be set to \"1\" (representing \"has answer\").\n",
    "\n",
    "Syntax notes: to check if a value is missing, pandas provides the special comparison function `isna`. To negate a comparison (so we can say when a row does **not** contain a missing value), we'll use the the `~` operator."
   ]
  },
  {
   "cell_type": "code",
   "execution_count": 37,
   "metadata": {},
   "outputs": [
    {
     "data": {
      "text/html": [
       "<div>\n",
       "<style scoped>\n",
       "    .dataframe tbody tr th:only-of-type {\n",
       "        vertical-align: middle;\n",
       "    }\n",
       "\n",
       "    .dataframe tbody tr th {\n",
       "        vertical-align: top;\n",
       "    }\n",
       "\n",
       "    .dataframe thead th {\n",
       "        text-align: right;\n",
       "    }\n",
       "</style>\n",
       "<table border=\"1\" class=\"dataframe\">\n",
       "  <thead>\n",
       "    <tr style=\"text-align: right;\">\n",
       "      <th></th>\n",
       "      <th>id</th>\n",
       "      <th>creation_time</th>\n",
       "      <th>tag</th>\n",
       "      <th>year</th>\n",
       "      <th>month</th>\n",
       "      <th>accepted_id</th>\n",
       "      <th>owner_user_id</th>\n",
       "      <th>has_answer</th>\n",
       "    </tr>\n",
       "  </thead>\n",
       "  <tbody>\n",
       "    <tr>\n",
       "      <th>0</th>\n",
       "      <td>24752851</td>\n",
       "      <td>2014-07-15 07:58:49</td>\n",
       "      <td>.htaccess</td>\n",
       "      <td>2014</td>\n",
       "      <td>7</td>\n",
       "      <td>24768174.0</td>\n",
       "      <td>509916.0</td>\n",
       "      <td>1.0</td>\n",
       "    </tr>\n",
       "    <tr>\n",
       "      <th>1</th>\n",
       "      <td>39926330</td>\n",
       "      <td>2016-10-07 21:55:43</td>\n",
       "      <td>.htaccess</td>\n",
       "      <td>2016</td>\n",
       "      <td>10</td>\n",
       "      <td>NaN</td>\n",
       "      <td>5281549.0</td>\n",
       "      <td>0.0</td>\n",
       "    </tr>\n",
       "    <tr>\n",
       "      <th>2</th>\n",
       "      <td>26762140</td>\n",
       "      <td>2014-11-05 16:26:24</td>\n",
       "      <td>.htaccess</td>\n",
       "      <td>2014</td>\n",
       "      <td>11</td>\n",
       "      <td>26762882.0</td>\n",
       "      <td>2091861.0</td>\n",
       "      <td>1.0</td>\n",
       "    </tr>\n",
       "    <tr>\n",
       "      <th>3</th>\n",
       "      <td>29889423</td>\n",
       "      <td>2015-04-27 07:14:00</td>\n",
       "      <td>.htaccess</td>\n",
       "      <td>2015</td>\n",
       "      <td>4</td>\n",
       "      <td>NaN</td>\n",
       "      <td>589973.0</td>\n",
       "      <td>0.0</td>\n",
       "    </tr>\n",
       "    <tr>\n",
       "      <th>4</th>\n",
       "      <td>10582676</td>\n",
       "      <td>2012-05-14 11:43:27</td>\n",
       "      <td>.htaccess</td>\n",
       "      <td>2012</td>\n",
       "      <td>5</td>\n",
       "      <td>NaN</td>\n",
       "      <td>1326187.0</td>\n",
       "      <td>0.0</td>\n",
       "    </tr>\n",
       "    <tr>\n",
       "      <th>...</th>\n",
       "      <td>...</td>\n",
       "      <td>...</td>\n",
       "      <td>...</td>\n",
       "      <td>...</td>\n",
       "      <td>...</td>\n",
       "      <td>...</td>\n",
       "      <td>...</td>\n",
       "      <td>...</td>\n",
       "    </tr>\n",
       "    <tr>\n",
       "      <th>60565</th>\n",
       "      <td>39093361</td>\n",
       "      <td>2016-08-23 05:55:50</td>\n",
       "      <td>zurb-foundation</td>\n",
       "      <td>2016</td>\n",
       "      <td>8</td>\n",
       "      <td>NaN</td>\n",
       "      <td>2729887.0</td>\n",
       "      <td>0.0</td>\n",
       "    </tr>\n",
       "    <tr>\n",
       "      <th>60566</th>\n",
       "      <td>37248756</td>\n",
       "      <td>2016-05-16 07:25:11</td>\n",
       "      <td>zurb-foundation-6</td>\n",
       "      <td>2016</td>\n",
       "      <td>5</td>\n",
       "      <td>37251132.0</td>\n",
       "      <td>1148107.0</td>\n",
       "      <td>1.0</td>\n",
       "    </tr>\n",
       "    <tr>\n",
       "      <th>60567</th>\n",
       "      <td>16264645</td>\n",
       "      <td>2013-04-28 15:50:01</td>\n",
       "      <td>zxing</td>\n",
       "      <td>2013</td>\n",
       "      <td>4</td>\n",
       "      <td>16264687.0</td>\n",
       "      <td>2102871.0</td>\n",
       "      <td>1.0</td>\n",
       "    </tr>\n",
       "    <tr>\n",
       "      <th>60568</th>\n",
       "      <td>30389191</td>\n",
       "      <td>2015-05-22 05:46:07</td>\n",
       "      <td>zxing</td>\n",
       "      <td>2015</td>\n",
       "      <td>5</td>\n",
       "      <td>NaN</td>\n",
       "      <td>571433.0</td>\n",
       "      <td>0.0</td>\n",
       "    </tr>\n",
       "    <tr>\n",
       "      <th>60569</th>\n",
       "      <td>26181174</td>\n",
       "      <td>2014-10-03 14:44:59</td>\n",
       "      <td>zxing</td>\n",
       "      <td>2014</td>\n",
       "      <td>10</td>\n",
       "      <td>NaN</td>\n",
       "      <td>1491212.0</td>\n",
       "      <td>0.0</td>\n",
       "    </tr>\n",
       "  </tbody>\n",
       "</table>\n",
       "<p>60570 rows × 8 columns</p>\n",
       "</div>"
      ],
      "text/plain": [
       "             id        creation_time                tag  year  month  \\\n",
       "0      24752851  2014-07-15 07:58:49          .htaccess  2014      7   \n",
       "1      39926330  2016-10-07 21:55:43          .htaccess  2016     10   \n",
       "2      26762140  2014-11-05 16:26:24          .htaccess  2014     11   \n",
       "3      29889423  2015-04-27 07:14:00          .htaccess  2015      4   \n",
       "4      10582676  2012-05-14 11:43:27          .htaccess  2012      5   \n",
       "...         ...                  ...                ...   ...    ...   \n",
       "60565  39093361  2016-08-23 05:55:50    zurb-foundation  2016      8   \n",
       "60566  37248756  2016-05-16 07:25:11  zurb-foundation-6  2016      5   \n",
       "60567  16264645  2013-04-28 15:50:01              zxing  2013      4   \n",
       "60568  30389191  2015-05-22 05:46:07              zxing  2015      5   \n",
       "60569  26181174  2014-10-03 14:44:59              zxing  2014     10   \n",
       "\n",
       "       accepted_id  owner_user_id  has_answer  \n",
       "0       24768174.0       509916.0         1.0  \n",
       "1              NaN      5281549.0         0.0  \n",
       "2       26762882.0      2091861.0         1.0  \n",
       "3              NaN       589973.0         0.0  \n",
       "4              NaN      1326187.0         0.0  \n",
       "...            ...            ...         ...  \n",
       "60565          NaN      2729887.0         0.0  \n",
       "60566   37251132.0      1148107.0         1.0  \n",
       "60567   16264687.0      2102871.0         1.0  \n",
       "60568          NaN       571433.0         0.0  \n",
       "60569          NaN      1491212.0         0.0  \n",
       "\n",
       "[60570 rows x 8 columns]"
      ]
     },
     "metadata": {},
     "output_type": "display_data"
    }
   ],
   "source": [
    "df.loc[~(pd.isna(df['has_answer'])), 'has_answer'] = 1\n",
    "df.loc[(pd.isna(df['has_answer'])), 'has_answer'] = 0\n",
    "display(df)"
   ]
  },
  {
   "cell_type": "markdown",
   "metadata": {},
   "source": [
    "## 9. Fine-grained analysis using groupby\n",
    "In section 6, we showed how to summarize data from an *entire* column, such as taking the min and max of numerical data. This is useful for initial exploration, but when tackling actual research questions, we often want to do more complicated operations involving interactions between multiple variables. For example, instead of just finding the earliest year in the data, we might be interested in finding the earliest year each tag first appeared. Using what we have learned so far, one way to do this would be to use queries: for each tag, you could write a query to select only the rows containing that tag, and call the `min` method each time. But this is extremely tedious, given that there are so many tags in the data! Thankfully, pandas offers a faster alternative: `groupby`.\n",
    "\n",
    "The `groupby` method can be thought of a splitting a DataFrame based on some categorical variable. For example, if we use `groupby` on the \"tag\" column, we'll have one group containing rows tagged \".htaccess\", another containing rows tagged \"python\", and so on, for every unique tag. Now, if we just run `groupby` on its own, we won't immediately see anything useful:"
   ]
  },
  {
   "cell_type": "code",
   "execution_count": 41,
   "metadata": {},
   "outputs": [
    {
     "data": {
      "text/plain": [
       "<pandas.core.groupby.generic.DataFrameGroupBy object at 0x7f428558f070>"
      ]
     },
     "metadata": {},
     "output_type": "display_data"
    }
   ],
   "source": [
    "df_grouped = df.groupby(\"tag\")\n",
    "display(df_grouped) # prints out some strange code that isn't super useful..."
   ]
  },
  {
   "cell_type": "markdown",
   "metadata": {},
   "source": [
    "But the key difference happens when we call summarization methods on the grouped variable. Instead of running the summarization on the entire data, as happens normally, the summarization will be run separately on each group! Let's try using the `min` summarization method on \"year\" in the grouped data:"
   ]
  },
  {
   "cell_type": "code",
   "execution_count": 44,
   "metadata": {},
   "outputs": [
    {
     "data": {
      "text/plain": [
       "tag\n",
       ".htaccess            2010\n",
       ".htpasswd            2019\n",
       ".net-2.0             2011\n",
       ".net-3.5             2009\n",
       ".net-4.0             2009\n",
       "                     ... \n",
       "zsh                  2013\n",
       "zshrc                2014\n",
       "zurb-foundation      2013\n",
       "zurb-foundation-6    2016\n",
       "zxing                2013\n",
       "Name: year, Length: 9033, dtype: int64"
      ]
     },
     "metadata": {},
     "output_type": "display_data"
    }
   ],
   "source": [
    "display(df_grouped['year'].min()) # we can use the same indexing and summarization syntax as we did for regular DataFrames, but the operation now happens separately for each group!"
   ]
  },
  {
   "cell_type": "markdown",
   "metadata": {},
   "source": [
    "As we can see, instead of a single minimum, we get multiple: one for each group! Specifically, we are seeing the earliest year each tag first appeared. We can immediately see how this might be useful for tracking trends; for example, questions tagged \".htaccess\" started in 2010, while questions tagged \".htpasswd\" didn't start until 2019. This might suggest, for example, that .htpasswd is a newer tag."
   ]
  },
  {
   "cell_type": "markdown",
   "metadata": {},
   "source": [
    "There are other kinds of summarization methods that can be useful when combined with `groupby`. Here are just a few examples:"
   ]
  },
  {
   "cell_type": "code",
   "execution_count": 48,
   "metadata": {},
   "outputs": [
    {
     "data": {
      "text/plain": [
       "year\n",
       "2008     141\n",
       "2009     957\n",
       "2010    1996\n",
       "2011    3408\n",
       "2012    4781\n",
       "2013    5994\n",
       "2014    6428\n",
       "2015    6583\n",
       "2016    6637\n",
       "2017    6216\n",
       "2018    5624\n",
       "2019    5330\n",
       "2020    6475\n",
       "Name: id, dtype: int64"
      ]
     },
     "metadata": {},
     "output_type": "display_data"
    }
   ],
   "source": [
    "# The count() method counts the total number of unique items in a column.\n",
    "# When combined with groupby, the counting will happen separately per group.\n",
    "# Let's try using it to find out how many questions happened per year (by counting the number of unique question IDs per year group)\n",
    "df_grouped = df.groupby(\"year\")\n",
    "display(df_grouped[\"id\"].count())"
   ]
  },
  {
   "cell_type": "code",
   "execution_count": 49,
   "metadata": {},
   "outputs": [
    {
     "data": {
      "text/plain": [
       "year\n",
       "2008     113.0\n",
       "2009     698.0\n",
       "2010    1462.0\n",
       "2011    2358.0\n",
       "2012    3143.0\n",
       "2013    3372.0\n",
       "2014    3436.0\n",
       "2015    3339.0\n",
       "2016    3189.0\n",
       "2017    2874.0\n",
       "2018    2494.0\n",
       "2019    2352.0\n",
       "2020    2314.0\n",
       "Name: has_answer, dtype: float64"
      ]
     },
     "metadata": {},
     "output_type": "display_data"
    }
   ],
   "source": [
    "# The sum() method computes the sum of all items in a column\n",
    "# When combined with groupby, sums are computed separately per group\n",
    "# Let's try using it to find out how many questions were answered per year.\n",
    "df_grouped = df.groupby(\"year\")\n",
    "display(df_grouped[\"has_answer\"].sum())"
   ]
  },
  {
   "cell_type": "markdown",
   "metadata": {},
   "source": [
    "Finally, note that it is possible to group on multiple columns at once! This will create a group for each unique pair of possible values in the two columns. For example, we might be interested not just in years, but in specific year-month combinations:"
   ]
  },
  {
   "cell_type": "code",
   "execution_count": 50,
   "metadata": {},
   "outputs": [
    {
     "data": {
      "text/plain": [
       "year  month\n",
       "2008  8         13\n",
       "      9         37\n",
       "      10        34\n",
       "      11        26\n",
       "      12        31\n",
       "              ... \n",
       "2020  8        529\n",
       "      9        555\n",
       "      10       540\n",
       "      11       510\n",
       "      12       106\n",
       "Name: id, Length: 149, dtype: int64"
      ]
     },
     "metadata": {},
     "output_type": "display_data"
    }
   ],
   "source": [
    "df_grouped = df.groupby([\"year\", \"month\"])\n",
    "display(df_grouped[\"id\"].count())"
   ]
  }
 ],
 "metadata": {
  "colab": {
   "collapsed_sections": [],
   "name": "pandas",
   "provenance": []
  },
  "kernelspec": {
   "display_name": "Python 3 (ipykernel)",
   "language": "python",
   "name": "python3"
  },
  "language_info": {
   "codemirror_mode": {
    "name": "ipython",
    "version": 3
   },
   "file_extension": ".py",
   "mimetype": "text/x-python",
   "name": "python",
   "nbconvert_exporter": "python",
   "pygments_lexer": "ipython3",
   "version": "3.9.7"
  }
 },
 "nbformat": 4,
 "nbformat_minor": 4
}
