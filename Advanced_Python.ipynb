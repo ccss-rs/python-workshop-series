{
  "nbformat": 4,
  "nbformat_minor": 0,
  "metadata": {
    "colab": {
      "name": "Advanced Python.ipynb",
      "provenance": [],
      "collapsed_sections": []
    },
    "kernelspec": {
      "name": "python3",
      "display_name": "Python 3"
    },
    "language_info": {
      "name": "python"
    }
  },
  "cells": [
    {
      "cell_type": "markdown",
      "source": [
        "**Dictionaries** \n",
        "\n",
        "Objectives:\n",
        "\n",
        "*   What is a dictionary?\n",
        "*   What are the advantages of dictionaries?\n",
        "*   How do I use the content of a dictionary?\n",
        "  - Examining\n",
        "  - Modifying\n",
        "  - Iterating\n",
        "  - Methods\n",
        "\n",
        "\n",
        "\n",
        "\n"
      ],
      "metadata": {
        "id": "OARW2SE58plY"
      }
    },
    {
      "cell_type": "markdown",
      "source": [
        "**What is a dictionary?**\n",
        "\n",
        "A dictionary is a collection of organized elements in pairs of keys:values."
      ],
      "metadata": {
        "id": "gtcql8BS_I8E"
      }
    },
    {
      "cell_type": "code",
      "execution_count": null,
      "metadata": {
        "id": "zyVolmNvJJaD"
      },
      "outputs": [],
      "source": [
        "poets_dict = {\"name\": \"Forough Farrokhzad\", \n",
        "            \"year of birth\": 1935, \n",
        "            \"year of death\": 1967, \n",
        "            \"place of birth\": \"Iran\", \n",
        "            \"language\": \"Persian\", \n",
        "            \"works\": [\"Remembrance of a Day\",\"Unison\",\"The Shower of Your Hair\",\"Portrait of Forough\"]}"
      ]
    },
    {
      "cell_type": "markdown",
      "source": [
        "for this reason, dictionaries are also called key-value pairs.\n",
        "\n",
        "In this example, \n",
        "\n",
        "the **keys** are **name, year of birth, year of death, place of birth, language and works**, and\n",
        "\n",
        "everything after the colon are the **values** assigned to that key: **Forough Farrokhzad, 1935, 1967, Iran, Persian, and [\"Remembrance of a Day\",\"Unison\",\"The Shower of Your Hair\",\"Portrait of Forough\"]** \n",
        "\n",
        "Dictionaries are defined with curly brackets holding the key-value pairs, written in the forman key:value and separated by comas. \n",
        "\n",
        "The general syntax of a dictionary is the following:"
      ],
      "metadata": {
        "id": "OCMt3SfDCFm0"
      }
    },
    {
      "cell_type": "code",
      "source": [
        "Developmental_Context = {\n",
        "  \"state\": \"NY\",\n",
        "  \"City\": \"Ithaca\",\n",
        "  \"Zip Code\": 14850,\n",
        "  \"Colleges\": [\"Cornell University\", \"Ithaca College\"]\n",
        "}"
      ],
      "metadata": {
        "id": "wa1rTLX1FMkA"
      },
      "execution_count": null,
      "outputs": []
    },
    {
      "cell_type": "markdown",
      "source": [
        "**When should I use dictionaries and when should I use lists?**\n",
        "\n",
        "If the data you are storing is complex and hierarchical, the dictionary's key / value structure is very helpful. This is the advantage of dictionaries."
      ],
      "metadata": {
        "id": "c6JMDZBs8kCD"
      }
    },
    {
      "cell_type": "markdown",
      "source": [
        "Keys  must be unique (there cannot be duplicates of the dictionary with the same key) and they cannot be changed. \n",
        "\n",
        "\n",
        "Values, on the other hand, can be anything, including strings, intergers, booleans, lists of them or even other dictionaries. \n",
        "\n",
        "Let's see an example with different data types: strings, booleans, integers and lists."
      ],
      "metadata": {
        "id": "54gBmecWNgcb"
      }
    },
    {
      "cell_type": "code",
      "source": [
        "Developmental_Context = {\n",
        "  \"City\": \"Ithaca\",\n",
        "  \"Urban\": False,\n",
        "  \"Year\": 2021,\n",
        "  \"Colleges\": [\"Cornell University\", \"Ithaca College\"]\n",
        "}"
      ],
      "metadata": {
        "id": "N1LWEtuhHEjb"
      },
      "execution_count": null,
      "outputs": []
    },
    {
      "cell_type": "markdown",
      "source": [
        "Here is another example of a dictionary called *valid_dict* containing two other dictionaries *dict_nums* and *dict_ints*."
      ],
      "metadata": {
        "id": "LnCB7E9UFF-w"
      }
    },
    {
      "cell_type": "code",
      "source": [
        "valid_dict = {'dict_nums':{1:'one', 2:'two', 3:'three'},\n",
        "             'dict_ints':{'one':1, 'two':2, 'three':3}}"
      ],
      "metadata": {
        "id": "xBvh7-dHCbZw"
      },
      "execution_count": null,
      "outputs": []
    },
    {
      "cell_type": "markdown",
      "source": [
        "In this case *'dict_nums'* and *'dict_ints'* are both values of a dictionary, and a dictionary themselves.\n",
        "\n",
        "While dictionaries can be values in other dictionaries, they cannot be keys:"
      ],
      "metadata": {
        "id": "DDMe5kTgCqLo"
      }
    },
    {
      "cell_type": "code",
      "source": [
        "invalid_dict = {{1:'one', 2:'two', 3:'three'}:'dict_nums',\n",
        "             {'one':1, 'two':2, 'three':3}:'dict_ints'}"
      ],
      "metadata": {
        "id": "mKR7F8nGIzTj"
      },
      "execution_count": null,
      "outputs": []
    },
    {
      "cell_type": "markdown",
      "source": [
        "**Examining a Dictionary**\n",
        "\n",
        "You can use the function *print* and the methods *.values* and *.keys* to see the content of your dictionary.\n",
        "\n",
        "Let's use this on our first example:"
      ],
      "metadata": {
        "id": "NCNOgzZ0I3WZ"
      }
    },
    {
      "cell_type": "code",
      "source": [
        "print(poets_dict)"
      ],
      "metadata": {
        "colab": {
          "base_uri": "https://localhost:8080/"
        },
        "id": "_DoC0ewAJNBh",
        "outputId": "93876039-882f-40e4-fcd2-1f958d68e407"
      },
      "execution_count": null,
      "outputs": [
        {
          "output_type": "stream",
          "name": "stdout",
          "text": [
            "{'name': 'Forough Farrokhzad', 'year of birth': 1935, 'year of death': 1967, 'place of birth': 'Iran', 'language': 'Persian', 'works': ['Remembrance of a Day', 'Unison', 'The Shower of Your Hair', 'Portrait of Forough']}\n"
          ]
        }
      ]
    },
    {
      "cell_type": "code",
      "source": [
        "print(poets_dict.values())"
      ],
      "metadata": {
        "colab": {
          "base_uri": "https://localhost:8080/"
        },
        "id": "UUAsjWXQJ3VQ",
        "outputId": "988bd67f-077a-434e-f152-fafe08713139"
      },
      "execution_count": null,
      "outputs": [
        {
          "output_type": "stream",
          "name": "stdout",
          "text": [
            "dict_values(['Forough Farrokhzad', 1935, 1967, 'Iran', 'Persian', ['Remembrance of a Day', 'Unison', 'The Shower of Your Hair', 'Portrait of Forough']])\n"
          ]
        }
      ]
    },
    {
      "cell_type": "code",
      "source": [
        "print(poets_dict.keys())\n"
      ],
      "metadata": {
        "colab": {
          "base_uri": "https://localhost:8080/"
        },
        "id": "gvqDQiW7J01m",
        "outputId": "6196ae86-4fb4-4c0f-a064-6649aa7fc30b"
      },
      "execution_count": null,
      "outputs": [
        {
          "output_type": "stream",
          "name": "stdout",
          "text": [
            "dict_keys(['name', 'year of birth', 'year of death', 'place of birth', 'language', 'works'])\n"
          ]
        }
      ]
    },
    {
      "cell_type": "markdown",
      "source": [
        "Now let's use these two methods on our example of dictionary containing two dictionaries."
      ],
      "metadata": {
        "id": "CD_V4zyxO9NB"
      }
    },
    {
      "cell_type": "code",
      "source": [
        "print(valid_dict.keys())"
      ],
      "metadata": {
        "colab": {
          "base_uri": "https://localhost:8080/"
        },
        "id": "QuvdysPgKFXs",
        "outputId": "83e492d8-a636-46bd-ecaf-4e51158f1eff"
      },
      "execution_count": null,
      "outputs": [
        {
          "output_type": "stream",
          "name": "stdout",
          "text": [
            "dict_keys(['dict_nums', 'dict_ints'])\n"
          ]
        }
      ]
    },
    {
      "cell_type": "code",
      "source": [
        "print(valid_dict.values())"
      ],
      "metadata": {
        "colab": {
          "base_uri": "https://localhost:8080/"
        },
        "id": "rBlbMQzDKiDo",
        "outputId": "e73f9066-3e3a-49c0-c2bd-2b303e9a522e"
      },
      "execution_count": null,
      "outputs": [
        {
          "output_type": "stream",
          "name": "stdout",
          "text": [
            "dict_values([{1: 'one', 2: 'two', 3: 'three'}, {'one': 1, 'two': 2, 'three': 3}])\n"
          ]
        }
      ]
    },
    {
      "cell_type": "markdown",
      "source": [
        "You may want your notebook to show you a specific element from your dictionary. Use its name to call it like so:"
      ],
      "metadata": {
        "id": "GfMXDE1GRRs7"
      }
    },
    {
      "cell_type": "code",
      "source": [
        "poets_dict[\"language\"]"
      ],
      "metadata": {
        "colab": {
          "base_uri": "https://localhost:8080/",
          "height": 35
        },
        "id": "rTM_h235RKjR",
        "outputId": "b1cdd191-4c71-4424-bc82-c2e14a15532c"
      },
      "execution_count": null,
      "outputs": [
        {
          "output_type": "execute_result",
          "data": {
            "application/vnd.google.colaboratory.intrinsic+json": {
              "type": "string"
            },
            "text/plain": [
              "'Persian'"
            ]
          },
          "metadata": {},
          "execution_count": 24
        }
      ]
    },
    {
      "cell_type": "markdown",
      "source": [
        "Or you may want it to show you the last element of a list in your dictionary:"
      ],
      "metadata": {
        "id": "1UWfoFMkU2UM"
      }
    },
    {
      "cell_type": "code",
      "source": [
        "poets_dict[\"works\"][-1]"
      ],
      "metadata": {
        "colab": {
          "base_uri": "https://localhost:8080/",
          "height": 35
        },
        "id": "wVfHCSawU5G0",
        "outputId": "d72ad000-9a99-4e1d-c18c-2da6c5ba90ee"
      },
      "execution_count": null,
      "outputs": [
        {
          "output_type": "execute_result",
          "data": {
            "application/vnd.google.colaboratory.intrinsic+json": {
              "type": "string"
            },
            "text/plain": [
              "'Portrait of Forough'"
            ]
          },
          "metadata": {},
          "execution_count": 32
        }
      ]
    },
    {
      "cell_type": "markdown",
      "source": [
        "**Modifying a Dictionary**"
      ],
      "metadata": {
        "id": "BMomQkCjI6q_"
      }
    },
    {
      "cell_type": "markdown",
      "source": [
        "As we said before, keys cannot be modified.\n",
        "\n",
        "If you try to duplicate a key, the latter one will overwrite the previous one:"
      ],
      "metadata": {
        "id": "JkA9BbJ2PH-v"
      }
    },
    {
      "cell_type": "code",
      "source": [
        "Developmental_Context = {\n",
        "  \"City\": \"Ithaca\",\n",
        "  \"Urban\": False,\n",
        "  \"Year\": 2021,\n",
        "  \"Year\": 2020\n",
        "  }"
      ],
      "metadata": {
        "id": "NtX4kQHwPnnE"
      },
      "execution_count": null,
      "outputs": []
    },
    {
      "cell_type": "code",
      "source": [
        "print(Developmental_Context)"
      ],
      "metadata": {
        "colab": {
          "base_uri": "https://localhost:8080/"
        },
        "id": "WP0ie-mZP3XC",
        "outputId": "9a44f3ca-6df5-456e-f0bd-73614bdf9890"
      },
      "execution_count": null,
      "outputs": [
        {
          "output_type": "stream",
          "name": "stdout",
          "text": [
            "{'City': 'Ithaca', 'Urban': False, 'Year': 2020}\n"
          ]
        }
      ]
    },
    {
      "cell_type": "markdown",
      "source": [
        "Though one specific keys cannot be modified, more keys can be added:"
      ],
      "metadata": {
        "id": "dmxZwaGsSXTf"
      }
    },
    {
      "cell_type": "code",
      "source": [
        "poets_dict[\"gender\"] = \"Female\"\n",
        "print(poets_dict)"
      ],
      "metadata": {
        "colab": {
          "base_uri": "https://localhost:8080/"
        },
        "id": "bWEyR3jMSfDx",
        "outputId": "a896fb0a-7526-4ffc-95d3-40a714f65230"
      },
      "execution_count": null,
      "outputs": [
        {
          "output_type": "stream",
          "name": "stdout",
          "text": [
            "{'name': 'Forough Farrokhzad', 'year of birth': 1935, 'year of death': 1967, 'place of birth': 'Iran', 'language': 'Farsi', 'works': ['Remembrance of a Day', 'Unison', 'The Shower of Your Hair', 'Portrait of Forough'], 'gender': 'Female'}\n"
          ]
        }
      ]
    },
    {
      "cell_type": "markdown",
      "source": [
        "The values in a dictionary instead are mutable. You can change them using the same syntax as before:"
      ],
      "metadata": {
        "id": "ZoTKrkNbRBsq"
      }
    },
    {
      "cell_type": "code",
      "source": [
        "poets_dict[\"language\"] = \"Farsi\"\n",
        "print(poets_dict)"
      ],
      "metadata": {
        "colab": {
          "base_uri": "https://localhost:8080/"
        },
        "id": "IgfvWqMVRozC",
        "outputId": "2b9de947-7a5e-485d-cd07-c1024e0a59ee"
      },
      "execution_count": null,
      "outputs": [
        {
          "output_type": "stream",
          "name": "stdout",
          "text": [
            "{'name': 'Forough Farrokhzad', 'year of birth': 1935, 'year of death': 1967, 'place of birth': 'Iran', 'language': 'Farsi', 'works': ['Remembrance of a Day', 'Unison', 'The Shower of Your Hair', 'Portrait of Forough']}\n"
          ]
        }
      ]
    },
    {
      "cell_type": "markdown",
      "source": [
        "The name of the dictionary however can be assigned to different variables. When you do this, either variable will refere to the same dictionary."
      ],
      "metadata": {
        "id": "lFXq4dFCQRhO"
      }
    },
    {
      "cell_type": "code",
      "source": [
        "my_new_developmental_context = Developmental_Context"
      ],
      "metadata": {
        "id": "kXJMkpfgQpxr"
      },
      "execution_count": null,
      "outputs": []
    },
    {
      "cell_type": "code",
      "source": [
        "print(my_new_developmental_context)"
      ],
      "metadata": {
        "colab": {
          "base_uri": "https://localhost:8080/"
        },
        "id": "GSAmMGdtQ3yB",
        "outputId": "a55ae930-fc62-4431-f3d6-02df40096df6"
      },
      "execution_count": null,
      "outputs": [
        {
          "output_type": "stream",
          "name": "stdout",
          "text": [
            "{'City': 'Ithaca', 'Urban': False, 'Year': 2020}\n"
          ]
        }
      ]
    },
    {
      "cell_type": "code",
      "source": [
        "print(Developmental_Context)"
      ],
      "metadata": {
        "colab": {
          "base_uri": "https://localhost:8080/"
        },
        "id": "GQVH4or6Q7O5",
        "outputId": "d8952200-29b6-4b9b-9e26-55ce22dc4aca"
      },
      "execution_count": null,
      "outputs": [
        {
          "output_type": "stream",
          "name": "stdout",
          "text": [
            "{'City': 'Ithaca', 'Urban': False, 'Year': 2020}\n"
          ]
        }
      ]
    },
    {
      "cell_type": "markdown",
      "source": [
        "If you have more than one variable referring to the same dictionary, either of them will compute the change:"
      ],
      "metadata": {
        "id": "0RWhNDttSHYy"
      }
    },
    {
      "cell_type": "code",
      "source": [
        "Developmental_Context[\"year\"] = 2022\n",
        "print(Developmental_Context)"
      ],
      "metadata": {
        "colab": {
          "base_uri": "https://localhost:8080/"
        },
        "id": "atuiznWoRvJS",
        "outputId": "07a09193-97dd-4569-9857-453dc26dc2c6"
      },
      "execution_count": null,
      "outputs": [
        {
          "output_type": "stream",
          "name": "stdout",
          "text": [
            "{'City': 'Ithaca', 'Urban': False, 'Year': 2020, 'year': 2022}\n"
          ]
        }
      ]
    },
    {
      "cell_type": "code",
      "source": [
        "Developmental_Context[\"Urban\"] = True\n",
        "print(Developmental_Context)"
      ],
      "metadata": {
        "colab": {
          "base_uri": "https://localhost:8080/"
        },
        "id": "II7WAt1jR8ez",
        "outputId": "cba11c2d-84f8-4338-fd60-332c39085b8c"
      },
      "execution_count": null,
      "outputs": [
        {
          "output_type": "stream",
          "name": "stdout",
          "text": [
            "{'City': 'Ithaca', 'Urban': True, 'Year': 2020, 'year': 2022}\n"
          ]
        }
      ]
    },
    {
      "cell_type": "markdown",
      "source": [
        "**Iterating with Dictionaries**"
      ],
      "metadata": {
        "id": "rplLdrkjJDlY"
      }
    },
    {
      "cell_type": "markdown",
      "source": [
        "When you need to do several changes in your dictionary, loops can help.\n",
        "\n",
        "For example, you could use a look to have your notebook print not just one but all the keys aong with their values in your dictionary:"
      ],
      "metadata": {
        "id": "WD3av64LUJwi"
      }
    },
    {
      "cell_type": "code",
      "source": [
        "#printpairs\n",
        "d = {'apples': 0.49, 'oranges': 0.99, 'pears': 1.49, 'bananas': 0.32}\n",
        "\n",
        "for key in d.keys():\n",
        "    print(key, d[key])"
      ],
      "metadata": {
        "colab": {
          "base_uri": "https://localhost:8080/"
        },
        "id": "vhgSxLpPVRSW",
        "outputId": "4c8f38af-baec-41cd-a7e5-78caa611bc2f"
      },
      "execution_count": null,
      "outputs": [
        {
          "output_type": "stream",
          "name": "stdout",
          "text": [
            "apples 0.49\n",
            "oranges 0.99\n",
            "pears 1.49\n",
            "bananas 0.32\n"
          ]
        }
      ]
    },
    {
      "cell_type": "markdown",
      "source": [
        "Now let's say you wish you correct all the prices in this list by adding the tax value to each:"
      ],
      "metadata": {
        "id": "ie7Txu1GVmkS"
      }
    },
    {
      "cell_type": "code",
      "source": [
        "#addtax\n",
        "d = {'apples': 0.49, 'oranges': 0.99, 'pears': 1.49, 'bananas': 0.32}\n",
        "\n",
        "for key in d.keys():\n",
        "    d[key] = round(1.05 * d[key], 2)\n",
        "\n",
        "print(d)"
      ],
      "metadata": {
        "id": "U9QO7gLLVknc"
      },
      "execution_count": null,
      "outputs": []
    },
    {
      "cell_type": "markdown",
      "source": [
        "**Other methods and functons for Dictionaries**"
      ],
      "metadata": {
        "id": "cjdvKlcNJHEo"
      }
    },
    {
      "cell_type": "markdown",
      "source": [
        "The method *.items* can come in handy with dictionaries. What do you think it does?"
      ],
      "metadata": {
        "id": "rPyqGA1-SlkL"
      }
    },
    {
      "cell_type": "code",
      "source": [
        "poets_dict.items()"
      ],
      "metadata": {
        "colab": {
          "base_uri": "https://localhost:8080/"
        },
        "id": "bUZBq0HsSrzv",
        "outputId": "66683fb9-78f3-48c8-bf00-a9a2173f4cc4"
      },
      "execution_count": null,
      "outputs": [
        {
          "output_type": "execute_result",
          "data": {
            "text/plain": [
              "dict_items([('name', 'Forough Farrokhzad'), ('year of birth', 1935), ('year of death', 1967), ('place of birth', 'Iran'), ('language', 'Farsi'), ('works', ['Remembrance of a Day', 'Unison', 'The Shower of Your Hair', 'Portrait of Forough']), ('gender', 'Female')])"
            ]
          },
          "metadata": {},
          "execution_count": 29
        }
      ]
    },
    {
      "cell_type": "markdown",
      "source": [
        "If you want to know how many pairs there are in a dictionary, use *len*:"
      ],
      "metadata": {
        "id": "QFDFZue6SyfN"
      }
    },
    {
      "cell_type": "code",
      "source": [
        "print(len(poets_dict))"
      ],
      "metadata": {
        "colab": {
          "base_uri": "https://localhost:8080/"
        },
        "id": "YeVoQWTpS1iW",
        "outputId": "6f430bd7-0327-4465-e9ed-1965382d3514"
      },
      "execution_count": null,
      "outputs": [
        {
          "output_type": "stream",
          "name": "stdout",
          "text": [
            "7\n"
          ]
        }
      ]
    },
    {
      "cell_type": "markdown",
      "source": [
        "The in operator works both for lists and dictionaries. \n",
        "\n",
        "It will allow you to check if an element is contained within a list or a dictionary."
      ],
      "metadata": {
        "id": "T6k0xkdHWmzI"
      }
    },
    {
      "cell_type": "code",
      "source": [
        "l = [\"Afghanistan\", \"Canada\", \"Sierra Leone\", \"Denmark\", \"Japan\"]\n",
        "d = {'apples': 0.49, 'oranges': 0.99, 'pears': 1.49, 'bananas': 0.32}\n",
        "\n",
        "print('Canada' in l)\n",
        "print('grapefruit' in d)\n",
        "print('grapefruit' not in d)"
      ],
      "metadata": {
        "colab": {
          "base_uri": "https://localhost:8080/"
        },
        "id": "G7eKabUeWqVC",
        "outputId": "d3718d8c-206b-4b88-f4ba-b1700fd8976e"
      },
      "execution_count": null,
      "outputs": [
        {
          "output_type": "stream",
          "name": "stdout",
          "text": [
            "True\n",
            "False\n",
            "True\n"
          ]
        }
      ]
    },
    {
      "cell_type": "markdown",
      "source": [
        "**Practice**\n",
        "\n",
        "Using the dictionary below and a for loop, calculate how much it'll cost you to buy 2 pieces of each fruit."
      ],
      "metadata": {
        "id": "_wEWtmc4WTs5"
      }
    },
    {
      "cell_type": "code",
      "source": [
        "d = {'apples': 0.49, 'oranges': 0.99, 'pears': 1.49, 'bananas': 0.32}"
      ],
      "metadata": {
        "id": "xlo8TiRQWcT7"
      },
      "execution_count": null,
      "outputs": []
    },
    {
      "cell_type": "code",
      "source": [
        ""
      ],
      "metadata": {
        "id": "fd_IbWBeWfMV"
      },
      "execution_count": null,
      "outputs": []
    },
    {
      "cell_type": "markdown",
      "source": [
        "-Break-"
      ],
      "metadata": {
        "id": "HS2qIQ_9XWXL"
      }
    },
    {
      "cell_type": "markdown",
      "source": [
        "## Files\n",
        "\n",
        "Learning Objectives:\n",
        "\n",
        "- \"Learn the Python way of reading in files.\"\n",
        "- \"Understand how to read/write text files and csv files.\"\n",
        "\n",
        "Example file:\n",
        "\n",
        "- We are going to use an example dataset retrieved from Stack Overflow.\n",
        "\n",
        "- Stack Overflow is a question and answer website. Users can ask and answer questions related to programming. Here is an example question and all the answers:https://stackoverflow.com/questions/4/how-to-convert-a-decimal-to-a-double-in-c\n",
        "\n",
        "- Here is an overview of the data schema: https://meta.stackexchange.com/questions/2677/database-schema-documentation-for-the-public-data-dump-and-sede\n",
        "\n"
      ],
      "metadata": {
        "id": "rgka2btj5nbP"
      }
    },
    {
      "cell_type": "markdown",
      "source": [
        "## Reading from a file\n",
        "Reading a file requires three steps:\n",
        "\n",
        "- Opening the file: `open` function\n",
        "- Reading the file: `read` function\n",
        "- Closing the file: `close` function"
      ],
      "metadata": {
        "id": "BcfVbtEw5tI8"
      }
    },
    {
      "cell_type": "code",
      "source": [
        "my_file = open(\"data/so_question_title.csv\", \"r\") # open takes two arguments: the location of the file to open, and the mode (see below for details)\n",
        "text = my_file.read()\n",
        "my_file.close()\n",
        "\n",
        "print(text)"
      ],
      "metadata": {
        "id": "6IGaLP2G5z1v"
      },
      "execution_count": null,
      "outputs": []
    },
    {
      "cell_type": "markdown",
      "source": [
        "- However, use the with open syntax and this will automatically close files for you.\n",
        "- The 'r' indicates that you are reading the file, as opposed to, say, writing to it."
      ],
      "metadata": {
        "id": "KFUGnY3X5y5U"
      }
    },
    {
      "cell_type": "code",
      "source": [
        "# better code\n",
        "with open('data/so_question_title.csv', 'r') as my_file:\n",
        "    text = my_file.read()\n",
        "    \n",
        "print(text)\n",
        "\n",
        "#note that we are also reading the title as the first line and we will deal with this issue later"
      ],
      "metadata": {
        "id": "gVIsN5J152yL"
      },
      "execution_count": null,
      "outputs": []
    },
    {
      "cell_type": "markdown",
      "source": [
        "## Reading a file as a list\n",
        "- Very often we want to read in a file line by line, storing those lines as a list.\n",
        "- To do that, we can use a `for` loop over the file object:"
      ],
      "metadata": {
        "id": "hT_ELJvH55xV"
      }
    },
    {
      "cell_type": "code",
      "source": [
        "stored = []\n",
        "with open('data/so_question_title.csv', 'r') as my_file:\n",
        "    for line in my_file:\n",
        "        stored.append(line)"
      ],
      "metadata": {
        "id": "gwfNqQMZ57R5"
      },
      "execution_count": null,
      "outputs": []
    },
    {
      "cell_type": "code",
      "source": [
        "stored"
      ],
      "metadata": {
        "id": "kGLC__gt58bX"
      },
      "execution_count": null,
      "outputs": []
    },
    {
      "cell_type": "markdown",
      "source": [
        "Remember that the variable name can be anything. It does not have to be `line`. Files are simply always read line by line.\n",
        "\n",
        "We can use the `strip` method to get rid of those line breaks at the end"
      ],
      "metadata": {
        "id": "Sp3U0jb75-Bi"
      }
    },
    {
      "cell_type": "code",
      "source": [
        "stored = []\n",
        "with open('data/so_question_title.csv', 'r') as my_file:\n",
        "    for line in my_file:\n",
        "        stored.append(line.strip())"
      ],
      "metadata": {
        "id": "GGfqW8ze6BPG"
      },
      "execution_count": null,
      "outputs": []
    },
    {
      "cell_type": "code",
      "source": [
        "stored"
      ],
      "metadata": {
        "id": "bZeAmWWo67Tr"
      },
      "execution_count": null,
      "outputs": []
    },
    {
      "cell_type": "markdown",
      "source": [
        "## Read certain lines in file\n",
        "- we can pick certain lines to read using the enumerate function\n",
        "- we can use this method to drop the title line"
      ],
      "metadata": {
        "id": "blebX-Sa6Cnb"
      }
    },
    {
      "cell_type": "markdown",
      "source": [
        "`Enumerate()` method adds a counter to an iterable and returns it in a form of enumerating object. This enumerated object can then be used directly for loops or converted into a list of tuples using the list() method."
      ],
      "metadata": {
        "id": "vkh5k8GEpe1r"
      }
    },
    {
      "cell_type": "code",
      "source": [
        "list1 = [\"Sam\",\"Jonathan\",\"Xiaomeng\"]\n",
        "\n",
        "for ele in enumerate(list1):\n",
        "    print (ele)"
      ],
      "metadata": {
        "id": "BDUJZcs6kVnm"
      },
      "execution_count": null,
      "outputs": []
    },
    {
      "cell_type": "code",
      "source": [
        "stored = []\n",
        "with open('data/so_question_title.csv', 'r') as my_file:\n",
        "    for i, line in enumerate(my_file):  # use enumerate to count which line we are on\n",
        "      if i>1:\n",
        "        stored.append(line.strip())\n",
        "      else:\n",
        "        continue # do nothing when identify the first line (i==1), i.e. do not read the first line"
      ],
      "metadata": {
        "id": "Bajsxl3-6Ejp"
      },
      "execution_count": null,
      "outputs": []
    },
    {
      "cell_type": "code",
      "source": [
        "stored # now the title line has been removed!"
      ],
      "metadata": {
        "id": "BwCC2Hm46F6f"
      },
      "execution_count": null,
      "outputs": []
    },
    {
      "cell_type": "markdown",
      "source": [
        "## Excercise\n",
        "\n",
        "Read from line 7 to line 20"
      ],
      "metadata": {
        "id": "MUjhjKVw6HE_"
      }
    },
    {
      "cell_type": "code",
      "source": [
        "stored = []\n",
        "with open('data/so_question_title.csv', 'r') as my_file:\n",
        "    for i, line in enumerate(my_file):\n",
        "      if _______:\n",
        "        stored.append(line.strip())\n",
        "      else:\n",
        "        continue "
      ],
      "metadata": {
        "id": "CzbSrFDV6Ipr"
      },
      "execution_count": null,
      "outputs": []
    },
    {
      "cell_type": "markdown",
      "source": [
        "## Writing to a file\n",
        "We can use the with `open` syntax for writing files as well."
      ],
      "metadata": {
        "id": "XoPtLoWw6Kda"
      }
    },
    {
      "cell_type": "code",
      "source": [
        "# this is okay...\n",
        "new_file = open(\"output.csv\", \"w\")\n",
        "bees = ['bears', 'beets', 'Battlestar Galactica']\n",
        "for i in bees:\n",
        "    new_file.write(i + '\\n')\n",
        "new_file.close()"
      ],
      "metadata": {
        "id": "gM4ZUk1a6MrS"
      },
      "execution_count": null,
      "outputs": []
    },
    {
      "cell_type": "code",
      "source": [
        "# but this is better, can anyone tell why?\n",
        "bees = ['bears', 'beets', 'Battlestar Galactica']\n",
        "with open('output.csv', 'w') as new_file:\n",
        "    for i in bees:\n",
        "        new_file.write(i + '\\n')"
      ],
      "metadata": {
        "id": "yEOj4Jta6OB8"
      },
      "execution_count": null,
      "outputs": []
    },
    {
      "cell_type": "markdown",
      "source": [
        "Let's take a look at the file we wrote."
      ],
      "metadata": {
        "id": "haXavDz26MCY"
      }
    },
    {
      "cell_type": "markdown",
      "source": [
        "## Using the CSV Module\n",
        "\n",
        "- It is built specifically for reading csv files.\n",
        "- It has nice functions such as `.DictReader`, `.DictWriter` that help read and write csv files more efficiently."
      ],
      "metadata": {
        "id": "DQEmTj1z6U8c"
      }
    },
    {
      "cell_type": "code",
      "source": [
        "import csv"
      ],
      "metadata": {
        "id": "qEtOjWBm6Y-y"
      },
      "execution_count": null,
      "outputs": []
    },
    {
      "cell_type": "markdown",
      "source": [
        "Let's first try the same csv file 'so_question_title', with title in the first line."
      ],
      "metadata": {
        "id": "w2EzHGv26afE"
      }
    },
    {
      "cell_type": "code",
      "source": [
        "questions = [] # make empty list\n",
        "with open('data/so_question_title.csv', 'r') as csvfile: # open file\n",
        "    reader = csv.DictReader(csvfile) # create a reader\n",
        "    for row in reader: # loop through rows\n",
        "        questions.append(row) # append each row to the list"
      ],
      "metadata": {
        "id": "U3cGgNeG6aQD"
      },
      "execution_count": null,
      "outputs": []
    },
    {
      "cell_type": "code",
      "source": [
        "questions[:5] "
      ],
      "metadata": {
        "id": "2Vbt_yj06daQ"
      },
      "execution_count": null,
      "outputs": []
    },
    {
      "cell_type": "code",
      "source": [
        "# get the keys in each dictionary\n",
        "keys = questions[1].keys()\n",
        "keys"
      ],
      "metadata": {
        "id": "pW-JT7vd6gx2"
      },
      "execution_count": null,
      "outputs": []
    },
    {
      "cell_type": "markdown",
      "source": [
        "How about using an untitled csv file?"
      ],
      "metadata": {
        "id": "JWFM6L6R6h89"
      }
    },
    {
      "cell_type": "code",
      "source": [
        "#read csv and read into a list of dictionaries\n",
        "questions = [] # make empty list\n",
        "with open('data/so_question_untitle.csv', 'r') as csvfile: # open file\n",
        "    reader = csv.DictReader(csvfile) # create a reader\n",
        "    for row in reader: # loop through rows\n",
        "        questions.append(row) # append each row to the list"
      ],
      "metadata": {
        "id": "mifQuZAv6jun"
      },
      "execution_count": null,
      "outputs": []
    },
    {
      "cell_type": "code",
      "source": [
        "questions[:5] # what are the problems?"
      ],
      "metadata": {
        "id": "6O7gyzBd6lPZ"
      },
      "execution_count": null,
      "outputs": []
    },
    {
      "cell_type": "markdown",
      "source": [
        "Let's check the list of dictionaries of this untitled csv file."
      ],
      "metadata": {
        "id": "AFvnu8zA6jY4"
      }
    },
    {
      "cell_type": "code",
      "source": [
        "# get the keys in each dictionary\n",
        "keys = questions[1].keys()\n",
        "keys"
      ],
      "metadata": {
        "id": "RvTpfjOS6pQo"
      },
      "execution_count": null,
      "outputs": []
    },
    {
      "cell_type": "markdown",
      "source": [
        "# List Comprehensions\n",
        "\n",
        "**Learning Objectives**:\n",
        "- Understand the syntax of list comprehensions and how they can make your code cleaner and more compact"
      ],
      "metadata": {
        "id": "7VoBqfl0rYL0"
      }
    },
    {
      "cell_type": "markdown",
      "source": [
        "## Motivation: List Comprehensions are another way of doing loops with accumulation\n",
        "\n",
        "Recall that in Part 1 of our Python series, we talked about using the *accumulator pattern* with loops to transform list elements. As a quick reminder, the accumulator pattern lets us do something to each element in a list and store (\"accumulate\") the results. We specifically looked at the following example of squaring every element in a list:"
      ],
      "metadata": {
        "id": "13WcB57DrdVr"
      }
    },
    {
      "cell_type": "code",
      "source": [
        "values = [1, 2, 3, 4, 8, 9, 10]\n",
        "\n",
        "squared_values = []\n",
        "for x in values:\n",
        "    squared_values.append(x**2)\n",
        "\n",
        "print(squared_values)"
      ],
      "metadata": {
        "id": "Nueb6V3Zrauq",
        "colab": {
          "base_uri": "https://localhost:8080/"
        },
        "outputId": "06bccd58-cced-481f-b6d0-7f76c21dd705"
      },
      "execution_count": null,
      "outputs": [
        {
          "output_type": "stream",
          "name": "stdout",
          "text": [
            "[1, 4, 9, 16, 64, 81, 100]\n"
          ]
        }
      ]
    },
    {
      "cell_type": "markdown",
      "source": [
        "But this is a lot of code to do something that is conceptually rather simple! It took us three lines: one to initialize the accumulator variable, one to start the `for` loop, and one for the body of the loop. Thankfully, Python offers a way to do all three of these things in a single line of code! It is called a *list comprehension*:"
      ],
      "metadata": {
        "id": "vWxdjDlqrjpm"
      }
    },
    {
      "cell_type": "code",
      "source": [
        "squared_values = [x**2 for x in values]\n",
        "\n",
        "print(squared_values) # we get the same result!"
      ],
      "metadata": {
        "id": "Uxx7bu7rrfT_",
        "colab": {
          "base_uri": "https://localhost:8080/"
        },
        "outputId": "5028bc36-af66-4e78-edd4-54451b549031"
      },
      "execution_count": null,
      "outputs": [
        {
          "output_type": "stream",
          "name": "stdout",
          "text": [
            "[1, 4, 9, 16, 64, 81, 100]\n"
          ]
        }
      ]
    },
    {
      "cell_type": "markdown",
      "source": [
        "In terms of syntax, you can see that the list comprehension looks a lot like the original `for` loop, just in a slightly different order. The computation (in this case, `x**2`) comes *before* the `for` syntax, there is no ending colon, and the whole thing is inside the square brackets."
      ],
      "metadata": {
        "id": "ABly-bNormGT"
      }
    },
    {
      "cell_type": "markdown",
      "source": [
        "## List comprehensions can incorporate conditional logic\n",
        "\n",
        "Recall that another thing we did with loops was to combine them with conditionals to filter list elements. For example, the following code takes a list of ages and keeps only the elders (defined as those above 50):"
      ],
      "metadata": {
        "id": "oO9yer8sroW6"
      }
    },
    {
      "cell_type": "code",
      "source": [
        "ages = [20, 43, 12, 88, 97]\n",
        "filtered = []\n",
        "for age in ages:\n",
        "    if age > 50: # we want to select only the elders\n",
        "        filtered.append(age)\n",
        "print(filtered) # filtered only contains the two elders, ages 88 and 97"
      ],
      "metadata": {
        "id": "Kw11It8mrqKc",
        "colab": {
          "base_uri": "https://localhost:8080/"
        },
        "outputId": "beb72247-890a-49f0-be4c-fd991e807bb4"
      },
      "execution_count": null,
      "outputs": [
        {
          "output_type": "stream",
          "name": "stdout",
          "text": [
            "[88, 97]\n"
          ]
        }
      ]
    },
    {
      "cell_type": "markdown",
      "source": [
        "We can do this with a list comprehension as well! All we need to do is add the `if` condition after the `for`:"
      ],
      "metadata": {
        "id": "MHeRJcmgrs-1"
      }
    },
    {
      "cell_type": "code",
      "source": [
        "filtered = [age for age in ages if age > 50]\n",
        "\n",
        "print(filtered) # we get the same result!"
      ],
      "metadata": {
        "id": "ot6ZMmK-rr_k",
        "colab": {
          "base_uri": "https://localhost:8080/"
        },
        "outputId": "dd2e548b-d485-4f01-9bfa-0b0d564666d7"
      },
      "execution_count": null,
      "outputs": [
        {
          "output_type": "stream",
          "name": "stdout",
          "text": [
            "[88, 97]\n"
          ]
        }
      ]
    },
    {
      "cell_type": "markdown",
      "source": [
        "A word of warning, however: the conditions inside a list comprehension can only involve a single `if` statement; they do **not** support `else` and `elif`. This means that while conditionals inside list comprehensions are useful for basic filtering operations, they can't be used for more complicated conditional branching; for those you will still need to stick with loops."
      ],
      "metadata": {
        "id": "6nqkqowMr1Tt"
      }
    },
    {
      "cell_type": "markdown",
      "source": [
        "There are several advantages to list comprehensions, most obvious being cleaner, more readable code. Less obvious is that list comprehensions are actually calculated faster than `for` loops! In general, it is advised that you should always prefer list comprehensions when possible, and only use loops when you need to do something more complicated than what list comprehensions can handle."
      ],
      "metadata": {
        "id": "fOFoY7hXr2Oc"
      }
    },
    {
      "cell_type": "markdown",
      "source": [
        "##  Exercise 1: convert loops\n",
        "\n",
        "Convert the following code to list comprehensions:"
      ],
      "metadata": {
        "id": "fQ85AsMdr5Px"
      }
    },
    {
      "cell_type": "code",
      "source": [
        "# Square elements greater than 4\n",
        "a = [3, 4, 5]\n",
        "b = []\n",
        "for i in a:\n",
        "    if i > 4:\n",
        "        b.append(i**2)"
      ],
      "metadata": {
        "id": "6ZJr0_fbr748"
      },
      "execution_count": null,
      "outputs": []
    },
    {
      "cell_type": "code",
      "source": [
        "# Put your solution here:\n"
      ],
      "metadata": {
        "id": "Rr5egyCUr-EE"
      },
      "execution_count": null,
      "outputs": []
    },
    {
      "cell_type": "code",
      "source": [
        "# Add three to all list members.\n",
        "a = [3, 4, 5]\n",
        "for i in range(len(a)):\n",
        "    a[i] += 3"
      ],
      "metadata": {
        "id": "c8k7PBirr_-A"
      },
      "execution_count": null,
      "outputs": []
    },
    {
      "cell_type": "code",
      "source": [
        "# Put your solution here:\n"
      ],
      "metadata": {
        "id": "Wzgxr0uXsBv1"
      },
      "execution_count": null,
      "outputs": []
    },
    {
      "cell_type": "markdown",
      "source": [
        "## Challenge Exercise: write a list comprehension from a verbal description\n",
        "\n",
        "Write a list comprehension that does the following: for each elder (age greater than 50) in the `ages` list, compute their *birth year*, assuming that the ages were recorded in 2022.\n"
      ],
      "metadata": {
        "id": "y6Qg5ulpsDLb"
      }
    },
    {
      "cell_type": "code",
      "source": [
        "ages = [20, 43, 12, 88, 97]\n",
        "# Put your solution below:\n"
      ],
      "metadata": {
        "id": "KI4HTgPxsFhQ"
      },
      "execution_count": null,
      "outputs": []
    },
    {
      "cell_type": "markdown",
      "source": [
        "## Dictionary comprehensions\n",
        "\n",
        "The comprehensions syntax isn't just limited to lists! You can also use a very similar syntax to build *dictionaries*! The only difference is that you need to use the key: value syntax in your computation. For example, consider the following code that uses a loop to filter a dictionary of ages:"
      ],
      "metadata": {
        "id": "0Xt9t7dksHos"
      }
    },
    {
      "cell_type": "code",
      "source": [
        "ages = {'Kathy': 20, 'Karthik': 43, 'Fernando': 12, 'Lin': 88, 'Eva': 97}\n",
        "elders = {}\n",
        "for name in ages.keys():\n",
        "    if ages[name] > 50:\n",
        "        elders[name] = ages[name]\n",
        "print(elders)"
      ],
      "metadata": {
        "id": "2qpcQRrtsJvu"
      },
      "execution_count": null,
      "outputs": []
    },
    {
      "cell_type": "markdown",
      "source": [
        "In comprehension syntax, it would look like this:"
      ],
      "metadata": {
        "id": "RHtb73K_sMi7"
      }
    },
    {
      "cell_type": "code",
      "source": [
        "elders = {name: ages[name] for name in ages.keys() if ages[name] > 50}\n",
        "\n",
        "print(elders)"
      ],
      "metadata": {
        "id": "u0VldwDOsOUN"
      },
      "execution_count": null,
      "outputs": []
    },
    {
      "cell_type": "markdown",
      "source": [
        "## Exercise 2: computations using dictionary comprehensions\n",
        "\n",
        "Earlier in this workshop, we used a `for` loop to iterate over a dictionary of prices and compute the total price with sales tax applied for each item (the code is copied again below for reference). Rewrite this code using a dictionary comprehension."
      ],
      "metadata": {
        "id": "zH8HsAPusSWV"
      }
    },
    {
      "cell_type": "code",
      "source": [
        "# code copied from earlier in the workshop for reference\n",
        "d = {'apples': 0.49, 'oranges': 0.99, 'pears': 1.49, 'bananas': 0.32}\n",
        "\n",
        "for key in d.keys():\n",
        "    d[key] = round(1.05 * d[key], 2)\n",
        "\n",
        "print(d)"
      ],
      "metadata": {
        "id": "iBYDiln1sTPD"
      },
      "execution_count": null,
      "outputs": []
    },
    {
      "cell_type": "code",
      "source": [
        "# Put your solution here:\n"
      ],
      "metadata": {
        "id": "wrl78M2rsWDa"
      },
      "execution_count": null,
      "outputs": []
    }
  ]
}